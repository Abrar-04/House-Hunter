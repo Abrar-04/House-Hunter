{
 "cells": [
  {
   "cell_type": "code",
   "execution_count": 1,
   "metadata": {},
   "outputs": [],
   "source": [
    "import pandas as pd\n",
    "import numpy as np\n",
    "import seaborn as sns\n",
    "import matplotlib.pyplot as plt"
   ]
  },
  {
   "cell_type": "code",
   "execution_count": 2,
   "metadata": {},
   "outputs": [],
   "source": [
    "data=pd.read_csv(\"hyd_v2.csv\")"
   ]
  },
  {
   "cell_type": "code",
   "execution_count": 3,
   "metadata": {},
   "outputs": [
    {
     "data": {
      "text/plain": [
       "Index(['active', 'amenities', 'balconies', 'bathroom', 'combineDescription',\n",
       "       'completeStreetName', 'deposit', 'facing', 'facingDesc', 'floor',\n",
       "       'furnishingDesc', 'gym', 'id', 'isMaintenance', 'lift', 'loanAvailable',\n",
       "       'locality', 'localityId', 'location', 'maintenanceAmount', 'ownerName',\n",
       "       'parking', 'parkingDesc', 'propertyTitle', 'propertyType',\n",
       "       'property_age', 'property_size', 'reactivationSource', 'rent_amount',\n",
       "       'sharedAccomodation', 'shortUrl', 'swimmingPool', 'totalFloor',\n",
       "       'type_bhk', 'waterSupply', 'weight'],\n",
       "      dtype='object')"
      ]
     },
     "execution_count": 3,
     "metadata": {},
     "output_type": "execute_result"
    }
   ],
   "source": [
    "data.columns"
   ]
  },
  {
   "cell_type": "code",
   "execution_count": 4,
   "metadata": {},
   "outputs": [],
   "source": [
    "data=data.drop(['combineDescription','weight','id','localityId','shortUrl','propertyTitle','amenities','location','propertyType','reactivationSource','facingDesc','ownerName','completeStreetName','parkingDesc','loanAvailable','active','sharedAccomodation'],axis=1)"
   ]
  },
  {
   "cell_type": "code",
   "execution_count": 5,
   "metadata": {},
   "outputs": [],
   "source": [
    "data=data[(data['property_age']>-1) & (data['property_age']<15)]\n",
    "data['condition']=np.nan\n",
    "data.loc[data['property_age'] == 0, 'condition'] = data.loc[data['property_age'] == 0, 'condition'].fillna('0')\n",
    "data.loc[data['property_age'] <= 5, 'condition'] = data.loc[data['property_age'] <= 5, 'condition'].fillna('1-5')\n",
    "data.loc[data['property_age'] > 5, 'condition'] = data.loc[data['property_age'] > 5, 'condition'].fillna('5+')"
   ]
  },
  {
   "cell_type": "code",
   "execution_count": 6,
   "metadata": {},
   "outputs": [],
   "source": [
    "data=data.drop(['property_age'],axis=1)\n"
   ]
  },
  {
   "cell_type": "code",
   "execution_count": 7,
   "metadata": {},
   "outputs": [],
   "source": [
    "data.rename(columns={'condition': 'property_age'}, inplace=True)"
   ]
  },
  {
   "cell_type": "code",
   "execution_count": 8,
   "metadata": {},
   "outputs": [],
   "source": [
    "data['Balcony']=np.nan\n",
    "data.loc[data['balconies'] == \"None\", 'Balcony'] = data.loc[data['balconies'] == \"None\", 'Balcony'].fillna('0')\n",
    "data[\"balconies\"].replace({\"None\": -1}, inplace=True)\n",
    "data['balconies']=data['balconies'].astype(int)\n",
    "data=data[data['balconies']<10]\n",
    "data.loc[data['balconies'] == 0, 'Balcony'] = data.loc[data['balconies'] == 0, 'Balcony'].fillna('0')\n",
    "data.loc[data['balconies'] == 5, 'Balcony'] = data.loc[data['balconies'] == 5, 'Balcony'].fillna('4+')\n",
    "data.loc[data['balconies'] == 6, 'Balcony'] = data.loc[data['balconies'] == 6, 'Balcony'].fillna('4+')\n",
    "data.loc[data['balconies'] == 1, 'Balcony'] = data.loc[data['balconies'] == 1, 'Balcony'].fillna('1')\n",
    "data.loc[data['balconies'] == 2, 'Balcony'] = data.loc[data['balconies'] == 2, 'Balcony'].fillna('2')\n",
    "data.loc[data['balconies'] == 3, 'Balcony'] = data.loc[data['balconies'] == 3, 'Balcony'].fillna('3')\n",
    "data.loc[data['balconies'] == 4, 'Balcony'] = data.loc[data['balconies'] == 4, 'Balcony'].fillna('4')"
   ]
  },
  {
   "cell_type": "code",
   "execution_count": 9,
   "metadata": {},
   "outputs": [],
   "source": [
    "data=data.drop(['balconies'],axis=1)\n"
   ]
  },
  {
   "cell_type": "code",
   "execution_count": 10,
   "metadata": {},
   "outputs": [],
   "source": [
    "data['Bathroom']=np.nan\n",
    "data.loc[data['bathroom'] == 1, 'Bathroom'] = data.loc[data['bathroom'] == 1, 'Bathroom'].fillna('1')\n",
    "data.loc[data['bathroom'] == 2, 'Bathroom'] = data.loc[data['bathroom'] == 2, 'Bathroom'].fillna('2')\n",
    "data.loc[data['bathroom'] == 3, 'Bathroom'] = data.loc[data['bathroom'] == 3, 'Bathroom'].fillna('3')\n",
    "data.loc[data['bathroom'] == 4, 'Bathroom'] = data.loc[data['bathroom'] == 4, 'Bathroom'].fillna('4')\n",
    "data.loc[data['bathroom'] == 5, 'Bathroom'] = data.loc[data['bathroom'] == 5, 'Bathroom'].fillna('5')\n",
    "data.loc[data['bathroom'] > 5, 'Bathroom'] = data.loc[data['bathroom'] > 5, 'Bathroom'].fillna('5+')"
   ]
  },
  {
   "cell_type": "code",
   "execution_count": 11,
   "metadata": {},
   "outputs": [],
   "source": [
    "data=data.drop(['bathroom'],axis=1)\n"
   ]
  },
  {
   "cell_type": "code",
   "execution_count": 12,
   "metadata": {},
   "outputs": [],
   "source": [
    "data[\"maintenanceAmount\"].replace(to_replace = \"None\", value ='0', inplace=True)"
   ]
  },
  {
   "cell_type": "code",
   "execution_count": 13,
   "metadata": {},
   "outputs": [
    {
     "data": {
      "image/png": "[encoded data removed]",
      "text/plain": [
       "<Figure size 432x288 with 1 Axes>"
      ]
     },
     "metadata": {
      "needs_background": "light"
     },
     "output_type": "display_data"
    }
   ],
   "source": [
    "sns.distplot(data[\"maintenanceAmount\"],kde=True)         \n",
    "plt.show()"
   ]
  },
  {
   "cell_type": "code",
   "execution_count": 14,
   "metadata": {},
   "outputs": [],
   "source": [
    "data['maintenanceAmount'] = data['maintenanceAmount'].astype(int)"
   ]
  },
  {
   "cell_type": "code",
   "execution_count": 15,
   "metadata": {},
   "outputs": [],
   "source": [
    "data=data[(data['maintenanceAmount']>=0) & (data['maintenanceAmount']<3000)]"
   ]
  },
  {
   "cell_type": "code",
   "execution_count": 16,
   "metadata": {},
   "outputs": [
    {
     "data": {
      "image/png": "[encoded data removed]",
      "text/plain": [
       "<Figure size 432x288 with 1 Axes>"
      ]
     },
     "metadata": {
      "needs_background": "light"
     },
     "output_type": "display_data"
    }
   ],
   "source": [
    "sns.distplot(data[\"maintenanceAmount\"],kde=True)         \n",
    "plt.show()"
   ]
  },
  {
   "cell_type": "code",
   "execution_count": 17,
   "metadata": {},
   "outputs": [],
   "source": [
    "for i in range(0,3000,100):\n",
    "    data.loc[(data['maintenanceAmount'] >= i) & (data['maintenanceAmount'] < i+100), 'maintenanceAmount'] = i"
   ]
  },
  {
   "cell_type": "markdown",
   "metadata": {},
   "source": [
    "data['maintenanceAmt']=np.nan\n",
    "data.loc[data['maintenanceAmount'] == 0, 'maintenanceAmt'] = data.loc[data['maintenanceAmount'] == 0, 'maintenanceAmt'].fillna('0')\n",
    "data.loc[data['maintenanceAmount'] <= 1000, 'maintenanceAmt'] = data.loc[data['maintenanceAmount'] <= 1000, 'maintenanceAmt'].fillna('0-1000')\n",
    "data.loc[data['maintenanceAmount'] <= 2000, 'maintenanceAmt'] = data.loc[data['maintenanceAmount'] <= 2000, 'maintenanceAmt'].fillna('1000-2000')\n",
    "data.loc[data['maintenanceAmount'] <= 3000, 'maintenanceAmt'] = data.loc[data['maintenanceAmount'] <= 3000, 'maintenanceAmt'].fillna('2000-3000')\n",
    "data.loc[data['maintenanceAmount'] > 3000, 'maintenanceAmt'] = data.loc[data['maintenanceAmount'] > 3000, 'maintenanceAmt'].fillna('3000+')\n",
    "\n"
   ]
  },
  {
   "cell_type": "code",
   "execution_count": 18,
   "metadata": {},
   "outputs": [
    {
     "data": {
      "text/plain": [
       "0       9696\n",
       "1000    1524\n",
       "1500    1429\n",
       "2000    1129\n",
       "500     1054\n",
       "1200     478\n",
       "2500     316\n",
       "300      302\n",
       "200      292\n",
       "800      188\n",
       "700      125\n",
       "1800     124\n",
       "1300     115\n",
       "600      112\n",
       "100      110\n",
       "1600     105\n",
       "1400      80\n",
       "1700      74\n",
       "400       71\n",
       "1100      65\n",
       "900       60\n",
       "2200      45\n",
       "2100      41\n",
       "2400      39\n",
       "2300      31\n",
       "2800      23\n",
       "2700      17\n",
       "1900      16\n",
       "2600      11\n",
       "2900       7\n",
       "Name: maintenanceAmount, dtype: int64"
      ]
     },
     "execution_count": 18,
     "metadata": {},
     "output_type": "execute_result"
    }
   ],
   "source": [
    "data['maintenanceAmount'].value_counts()"
   ]
  },
  {
   "cell_type": "code",
   "execution_count": 19,
   "metadata": {},
   "outputs": [
    {
     "data": {
      "image/png": "[encoded data removed]",
      "text/plain": [
       "<Figure size 432x288 with 1 Axes>"
      ]
     },
     "metadata": {
      "needs_background": "light"
     },
     "output_type": "display_data"
    }
   ],
   "source": [
    "sns.distplot(data[\"property_size\"],kde=True)         \n",
    "plt.show()"
   ]
  },
  {
   "cell_type": "code",
   "execution_count": 20,
   "metadata": {},
   "outputs": [
    {
     "data": {
      "text/plain": [
       "(399, 19)"
      ]
     },
     "execution_count": 20,
     "metadata": {},
     "output_type": "execute_result"
    }
   ],
   "source": [
    "data1=data[(data['property_size']>2000)]\n",
    "data1.shape"
   ]
  },
  {
   "cell_type": "code",
   "execution_count": 21,
   "metadata": {},
   "outputs": [],
   "source": [
    "data=data[(data['property_size']>=100) & (data['property_size']<2000)]"
   ]
  },
  {
   "cell_type": "code",
   "execution_count": 22,
   "metadata": {},
   "outputs": [
    {
     "data": {
      "image/png": "[encoded data removed]",
      "text/plain": [
       "<Figure size 432x288 with 1 Axes>"
      ]
     },
     "metadata": {
      "needs_background": "light"
     },
     "output_type": "display_data"
    }
   ],
   "source": [
    "sns.distplot(data[\"property_size\"],kde=True)         \n",
    "plt.show()"
   ]
  },
  {
   "cell_type": "code",
   "execution_count": 23,
   "metadata": {},
   "outputs": [],
   "source": [
    "for i in range(0,2000,100):\n",
    "    data.loc[(data['property_size'] >= i) & (data['property_size'] < i+100), 'property_size'] = i"
   ]
  },
  {
   "cell_type": "code",
   "execution_count": 24,
   "metadata": {},
   "outputs": [
    {
     "data": {
      "text/plain": [
       "1000    2511\n",
       "500     1735\n",
       "1200    1685\n",
       "1100    1541\n",
       "900     1313\n",
       "800     1131\n",
       "600      952\n",
       "1500     871\n",
       "1300     787\n",
       "700      786\n",
       "400      702\n",
       "1400     645\n",
       "1600     554\n",
       "200      429\n",
       "300      396\n",
       "1800     352\n",
       "100      344\n",
       "1700     275\n",
       "1900      95\n",
       "Name: property_size, dtype: int64"
      ]
     },
     "execution_count": 24,
     "metadata": {},
     "output_type": "execute_result"
    }
   ],
   "source": [
    "data['property_size'].value_counts()"
   ]
  },
  {
   "cell_type": "code",
   "execution_count": 25,
   "metadata": {},
   "outputs": [],
   "source": [
    "data.drop([\"deposit\"],axis=1,inplace=True)"
   ]
  },
  {
   "cell_type": "code",
   "execution_count": 26,
   "metadata": {},
   "outputs": [
    {
     "data": {
      "image/png": "[encoded data removed]",
      "text/plain": [
       "<Figure size 1152x288 with 2 Axes>"
      ]
     },
     "metadata": {},
     "output_type": "display_data"
    }
   ],
   "source": [
    "sns.set(rc={'figure.figsize':(16,4)})\n",
    "fig = plt.figure()\n",
    "fig.subplots_adjust(hspace=0.4, wspace=0.1)\n",
    "for i in range(1, 3):\n",
    "    ax = fig.add_subplot(1, 2, i)\n",
    "    if(i==1):\n",
    "        sns.scatterplot(x=\"totalFloor\",y='rent_amount', data=data)\n",
    "    else:\n",
    "        sns.countplot(x=\"totalFloor\", data=data)"
   ]
  },
  {
   "cell_type": "code",
   "execution_count": 27,
   "metadata": {},
   "outputs": [
    {
     "data": {
      "image/png": "[encoded data removed]",
      "text/plain": [
       "<Figure size 1152x288 with 2 Axes>"
      ]
     },
     "metadata": {},
     "output_type": "display_data"
    }
   ],
   "source": [
    "sns.set(rc={'figure.figsize':(16,4)})\n",
    "fig = plt.figure()\n",
    "fig.subplots_adjust(hspace=0.4, wspace=0.1)\n",
    "for i in range(1, 3):\n",
    "    ax = fig.add_subplot(1, 2, i)\n",
    "    if(i==1):\n",
    "        sns.scatterplot(x=\"floor\",y='rent_amount', data=data)\n",
    "    else:\n",
    "        sns.countplot(x=\"floor\", data=data)"
   ]
  },
  {
   "cell_type": "code",
   "execution_count": 28,
   "metadata": {},
   "outputs": [
    {
     "data": {
      "text/plain": [
       "3     3966\n",
       "5     3435\n",
       "2     3411\n",
       "4     2865\n",
       "1     1839\n",
       "0      786\n",
       "6      317\n",
       "7       94\n",
       "9       70\n",
       "8       45\n",
       "12      43\n",
       "10      40\n",
       "14      35\n",
       "30      33\n",
       "13      24\n",
       "20      13\n",
       "19      12\n",
       "31      11\n",
       "15       9\n",
       "11       7\n",
       "32       7\n",
       "25       6\n",
       "35       6\n",
       "24       6\n",
       "16       5\n",
       "17       4\n",
       "23       3\n",
       "18       2\n",
       "34       2\n",
       "22       2\n",
       "21       1\n",
       "26       1\n",
       "80       1\n",
       "64       1\n",
       "29       1\n",
       "27       1\n",
       "Name: totalFloor, dtype: int64"
      ]
     },
     "execution_count": 28,
     "metadata": {},
     "output_type": "execute_result"
    }
   ],
   "source": [
    "data['totalFloor'].value_counts()"
   ]
  },
  {
   "cell_type": "code",
   "execution_count": 29,
   "metadata": {},
   "outputs": [
    {
     "data": {
      "text/plain": [
       "1     4400\n",
       "2     4375\n",
       "0     3553\n",
       "3     2549\n",
       "4     1261\n",
       "5      688\n",
       "6      100\n",
       "7       40\n",
       "8       23\n",
       "9       20\n",
       "11      14\n",
       "12      13\n",
       "14      13\n",
       "10      11\n",
       "13       7\n",
       "18       6\n",
       "15       5\n",
       "20       4\n",
       "19       4\n",
       "28       4\n",
       "24       3\n",
       "16       3\n",
       "17       2\n",
       "30       1\n",
       "22       1\n",
       "26       1\n",
       "21       1\n",
       "25       1\n",
       "23       1\n",
       "Name: floor, dtype: int64"
      ]
     },
     "execution_count": 29,
     "metadata": {},
     "output_type": "execute_result"
    }
   ],
   "source": [
    "data['floor'].value_counts()"
   ]
  },
  {
   "cell_type": "code",
   "execution_count": 30,
   "metadata": {},
   "outputs": [],
   "source": [
    "data['totalFloor'] = data['totalFloor'].astype(object)\n",
    "data['floor'] = data['floor'].astype(object)"
   ]
  },
  {
   "cell_type": "code",
   "execution_count": 31,
   "metadata": {},
   "outputs": [],
   "source": [
    "data['floor/totalFloor']=np.nan\n",
    "data['floor/totalFloor'] = data.floor.astype(str).str.cat(data.totalFloor.astype(str),sep=\"/\")"
   ]
  },
  {
   "cell_type": "code",
   "execution_count": 32,
   "metadata": {},
   "outputs": [],
   "source": [
    "ll=data['floor/totalFloor'].value_counts()"
   ]
  },
  {
   "cell_type": "code",
   "execution_count": 33,
   "metadata": {},
   "outputs": [],
   "source": [
    "less=[]\n",
    "for key in ll.keys():\n",
    "     if(ll[key]<=20):\n",
    "            less.append(key)"
   ]
  },
  {
   "cell_type": "code",
   "execution_count": 34,
   "metadata": {},
   "outputs": [
    {
     "data": {
      "text/plain": [
       "178"
      ]
     },
     "execution_count": 34,
     "metadata": {},
     "output_type": "execute_result"
    }
   ],
   "source": [
    "len(less)"
   ]
  },
  {
   "cell_type": "code",
   "execution_count": 35,
   "metadata": {},
   "outputs": [],
   "source": [
    "data = data[~data[\"floor/totalFloor\"].isin(less)]"
   ]
  },
  {
   "cell_type": "code",
   "execution_count": 36,
   "metadata": {},
   "outputs": [
    {
     "data": {
      "text/plain": [
       "2/2    1500\n",
       "2/3    1360\n",
       "3/3    1177\n",
       "1/2    1035\n",
       "1/1     942\n",
       "0/1     897\n",
       "0/2     876\n",
       "1/3     872\n",
       "0/0     786\n",
       "1/5     785\n",
       "2/4     726\n",
       "2/5     685\n",
       "3/4     669\n",
       "1/4     658\n",
       "3/5     635\n",
       "4/5     619\n",
       "5/5     573\n",
       "0/3     557\n",
       "4/4     556\n",
       "0/4     256\n",
       "0/5     138\n",
       "5/6      73\n",
       "1/6      52\n",
       "2/6      49\n",
       "6/6      45\n",
       "4/6      44\n",
       "3/6      36\n",
       "Name: floor/totalFloor, dtype: int64"
      ]
     },
     "execution_count": 36,
     "metadata": {},
     "output_type": "execute_result"
    }
   ],
   "source": [
    "data['floor/totalFloor'].value_counts()"
   ]
  },
  {
   "cell_type": "code",
   "execution_count": 37,
   "metadata": {},
   "outputs": [
    {
     "data": {
      "text/plain": [
       "(16601, 19)"
      ]
     },
     "execution_count": 37,
     "metadata": {},
     "output_type": "execute_result"
    }
   ],
   "source": [
    "data.shape"
   ]
  },
  {
   "cell_type": "code",
   "execution_count": 38,
   "metadata": {},
   "outputs": [],
   "source": [
    "data=data[data['rent_amount']>0]"
   ]
  },
  {
   "cell_type": "code",
   "execution_count": 39,
   "metadata": {},
   "outputs": [
    {
     "data": {
      "text/plain": [
       "2455"
      ]
     },
     "execution_count": 39,
     "metadata": {},
     "output_type": "execute_result"
    }
   ],
   "source": [
    "loc=data[\"locality\"].value_counts()\n",
    "len(loc)"
   ]
  },
  {
   "cell_type": "code",
   "execution_count": 40,
   "metadata": {},
   "outputs": [],
   "source": [
    "less=[]\n",
    "for key in loc.keys():\n",
    "     if(loc[key]<=1):\n",
    "            less.append(key)"
   ]
  },
  {
   "cell_type": "code",
   "execution_count": 41,
   "metadata": {},
   "outputs": [
    {
     "data": {
      "text/plain": [
       "1586"
      ]
     },
     "execution_count": 41,
     "metadata": {},
     "output_type": "execute_result"
    }
   ],
   "source": [
    "len(less)"
   ]
  },
  {
   "cell_type": "code",
   "execution_count": 42,
   "metadata": {},
   "outputs": [],
   "source": [
    "data = data[~data.locality.isin(less)]"
   ]
  },
  {
   "cell_type": "code",
   "execution_count": 43,
   "metadata": {},
   "outputs": [],
   "source": [
    "data['locality']=data['locality'].str.upper()"
   ]
  },
  {
   "cell_type": "code",
   "execution_count": 44,
   "metadata": {},
   "outputs": [],
   "source": [
    "data.locality = data.locality.str.strip()"
   ]
  },
  {
   "cell_type": "code",
   "execution_count": 45,
   "metadata": {},
   "outputs": [],
   "source": [
    "df=pd.concat([data, data['locality'].str.split(', ', expand=True)], axis=1)"
   ]
  },
  {
   "cell_type": "code",
   "execution_count": 46,
   "metadata": {},
   "outputs": [
    {
     "data": {
      "text/plain": [
       "Index([           'facing',             'floor',    'furnishingDesc',\n",
       "                     'gym',     'isMaintenance',              'lift',\n",
       "                'locality', 'maintenanceAmount',           'parking',\n",
       "           'property_size',       'rent_amount',      'swimmingPool',\n",
       "              'totalFloor',          'type_bhk',       'waterSupply',\n",
       "            'property_age',           'Balcony',          'Bathroom',\n",
       "        'floor/totalFloor',                   0,                   1,\n",
       "                         2,                   3,                   4,\n",
       "                         5,                   6],\n",
       "      dtype='object')"
      ]
     },
     "execution_count": 46,
     "metadata": {},
     "output_type": "execute_result"
    }
   ],
   "source": [
    "df.columns"
   ]
  },
  {
   "cell_type": "code",
   "execution_count": 47,
   "metadata": {},
   "outputs": [
    {
     "name": "stdout",
     "output_type": "stream",
     "text": [
      "KUKATPALLY              1492\n",
      "KONDAPUR                1064\n",
      "MIYAPUR                  567\n",
      "GACHIBOWLI               459\n",
      "NIZAMPET                 453\n",
      "                        ... \n",
      "NADARGUL                   2\n",
      "BHAVANI NAGAR COLONY       2\n",
      "RINEESH GARDENIA           2\n",
      "VIDYUT NAGAR               2\n",
      "L.B.NAGAR                  2\n",
      "Name: 0, Length: 648, dtype: int64\n",
      "KUKATPALLY                 45\n",
      "MIYAPUR                    15\n",
      "KONDAPUR                   10\n",
      "MANIKONDA                   9\n",
      "RAMACHANDRA PURAM           8\n",
      "ALWAL                       7\n",
      "MALKAJGIRI                  6\n",
      "MOULA ALI                   6\n",
      "LINGAMPALLY                 5\n",
      "CHANDA NAGAR                5\n",
      "QUTHBULLAPUR                5\n",
      "NAGOLE                      5\n",
      "KOTHAPET                    4\n",
      "SERILINGAMPALLY             4\n",
      "AMBERPET                    4\n",
      "BEGUMPET                    4\n",
      "HAFEEZPET                   4\n",
      "PATANCHERU                  4\n",
      "BANDLAGUDA JAGIR            3\n",
      "ERRAGADDA                   3\n",
      "KARKHANA                    3\n",
      "ADITYA NAGAR                3\n",
      "BORABANDA                   2\n",
      "MOOSAPET                    2\n",
      "NANAKRAM GUDA               2\n",
      "UPPAL                       2\n",
      "BODUPPAL                    2\n",
      "KING KOTI                   2\n",
      "KACHIGUDA                   2\n",
      "KAPRA                       2\n",
      "LAXMI NAGAR                 2\n",
      "MEHDIPATNAM                 2\n",
      "AMEENPUR                    2\n",
      "OLD BOWENPALLY              2\n",
      "PRIYA COLONY                2\n",
      "MOTI NAGAR                  2\n",
      "SHAIKPET                    2\n",
      "QUTUB SHAHI TOMBS           2\n",
      "KAMALAPRASAD NAGAR          2\n",
      "SANJEEVA REDDY NAGAR        2\n",
      "ATTAPUR                     2\n",
      "PHASE 3                     2\n",
      "KONDAPUR-500084             2\n",
      "MOTINAGAR                   2\n",
      "NEW NALLAKUNTA              2\n",
      "SAIDABAD                    2\n",
      " HYDERABAD - NORTH          2\n",
      "MADHAVI NAGAR               2\n",
      "CHENGICHERALA MAIN ROAD     2\n",
      "SIDDHI VINAYAK NAGAR        2\n",
      "Name: 1, dtype: int64\n",
      "HAFEEZPET           3\n",
      "MADHAPUR            2\n",
      "RTC COLONY          2\n",
      "GACHIBOWLI          2\n",
      "MEHDIPATNAM         2\n",
      "BANDLAGUDA JAGIR    2\n",
      "HYDERGUDA           2\n",
      "KONDAPUR            2\n",
      "MIYAPUR             2\n",
      "ANDHRA PRADESH      2\n",
      "HYDERABAD           2\n",
      "Name: 2, dtype: int64\n",
      "BUDDHA NAGAR    2\n",
      "HYDERABAD       2\n",
      "Name: 3, dtype: int64\n",
      "TELANGANA    2\n",
      "HYDERABAD    2\n",
      "Name: 4, dtype: int64\n",
      "TELANGANA    2\n",
      "INDIA        2\n",
      "Name: 5, dtype: int64\n",
      "INDIA    2\n",
      "Name: 6, dtype: int64\n"
     ]
    }
   ],
   "source": [
    "for i in range(0,7):\n",
    "    print(df[i].value_counts())"
   ]
  },
  {
   "cell_type": "code",
   "execution_count": 48,
   "metadata": {},
   "outputs": [
    {
     "data": {
      "text/plain": [
       "(15008, 26)"
      ]
     },
     "execution_count": 48,
     "metadata": {},
     "output_type": "execute_result"
    }
   ],
   "source": [
    "df.shape"
   ]
  },
  {
   "cell_type": "code",
   "execution_count": 49,
   "metadata": {},
   "outputs": [],
   "source": [
    "for i in range(1,3):\n",
    "    df[0] = np.where((df[i].notnull()), df[i],  df[0]) "
   ]
  },
  {
   "cell_type": "code",
   "execution_count": 50,
   "metadata": {},
   "outputs": [],
   "source": [
    "df=df.loc[df[0] != 'TELANGANA']\n",
    "df=df.loc[df[0] != 'HYDERABAD']"
   ]
  },
  {
   "cell_type": "code",
   "execution_count": 51,
   "metadata": {},
   "outputs": [
    {
     "data": {
      "text/plain": [
       "(14981, 26)"
      ]
     },
     "execution_count": 51,
     "metadata": {},
     "output_type": "execute_result"
    }
   ],
   "source": [
    "df.shape"
   ]
  },
  {
   "cell_type": "code",
   "execution_count": 52,
   "metadata": {},
   "outputs": [],
   "source": [
    "df.drop([ 'locality', 1,2,3,4,5,6],axis=1,inplace=True)"
   ]
  },
  {
   "cell_type": "code",
   "execution_count": 53,
   "metadata": {},
   "outputs": [
    {
     "data": {
      "text/plain": [
       "(14981, 19)"
      ]
     },
     "execution_count": 53,
     "metadata": {},
     "output_type": "execute_result"
    }
   ],
   "source": [
    "df.shape"
   ]
  },
  {
   "cell_type": "code",
   "execution_count": 54,
   "metadata": {},
   "outputs": [],
   "source": [
    "df.rename(columns={0: 'locality'}, inplace=True)"
   ]
  },
  {
   "cell_type": "code",
   "execution_count": 55,
   "metadata": {},
   "outputs": [],
   "source": [
    "df.locality = df.locality.str.strip()"
   ]
  },
  {
   "cell_type": "code",
   "execution_count": 56,
   "metadata": {},
   "outputs": [
    {
     "data": {
      "text/plain": [
       "6"
      ]
     },
     "execution_count": 56,
     "metadata": {},
     "output_type": "execute_result"
    }
   ],
   "source": [
    "df['locality'].isna().sum()"
   ]
  },
  {
   "cell_type": "code",
   "execution_count": 57,
   "metadata": {},
   "outputs": [
    {
     "data": {
      "text/plain": [
       "(14981, 19)"
      ]
     },
     "execution_count": 57,
     "metadata": {},
     "output_type": "execute_result"
    }
   ],
   "source": [
    "df.shape"
   ]
  },
  {
   "cell_type": "code",
   "execution_count": 58,
   "metadata": {},
   "outputs": [],
   "source": [
    "df.dropna(axis = 0, subset=['locality'], inplace = True)"
   ]
  },
  {
   "cell_type": "code",
   "execution_count": 59,
   "metadata": {},
   "outputs": [],
   "source": [
    "df['locality'] = df['locality'].str.replace(\" \",\"\")"
   ]
  },
  {
   "cell_type": "code",
   "execution_count": 60,
   "metadata": {},
   "outputs": [
    {
     "data": {
      "text/plain": [
       "KUKATPALLY                                      1537\n",
       "KONDAPUR                                        1076\n",
       "MIYAPUR                                          582\n",
       "CHANDANAGAR                                      468\n",
       "GACHIBOWLI                                       461\n",
       "                                                ... \n",
       "PARSIGUTTA                                         2\n",
       "BANJARAHILLSROADNO-12                              2\n",
       "PROFESSIONALTENNISACADEMY-CHALLENGER'STENNIS       2\n",
       "REDDY'SAVENUENIZAMPET                              2\n",
       "DURGAMCHERUVUMETROSTATION                          2\n",
       "Name: locality, Length: 594, dtype: int64"
      ]
     },
     "execution_count": 60,
     "metadata": {},
     "output_type": "execute_result"
    }
   ],
   "source": [
    "df['locality'].value_counts()"
   ]
  },
  {
   "cell_type": "code",
   "execution_count": 61,
   "metadata": {},
   "outputs": [
    {
     "data": {
      "text/html": [
       "<div>\n",
       "<style scoped>\n",
       "    .dataframe tbody tr th:only-of-type {\n",
       "        vertical-align: middle;\n",
       "    }\n",
       "\n",
       "    .dataframe tbody tr th {\n",
       "        vertical-align: top;\n",
       "    }\n",
       "\n",
       "    .dataframe thead th {\n",
       "        text-align: right;\n",
       "    }\n",
       "</style>\n",
       "<table border=\"1\" class=\"dataframe\">\n",
       "  <thead>\n",
       "    <tr style=\"text-align: right;\">\n",
       "      <th></th>\n",
       "      <th>facing</th>\n",
       "      <th>floor</th>\n",
       "      <th>furnishingDesc</th>\n",
       "      <th>gym</th>\n",
       "      <th>isMaintenance</th>\n",
       "      <th>lift</th>\n",
       "      <th>maintenanceAmount</th>\n",
       "      <th>parking</th>\n",
       "      <th>property_size</th>\n",
       "      <th>rent_amount</th>\n",
       "      <th>swimmingPool</th>\n",
       "      <th>totalFloor</th>\n",
       "      <th>type_bhk</th>\n",
       "      <th>waterSupply</th>\n",
       "      <th>property_age</th>\n",
       "      <th>Balcony</th>\n",
       "      <th>Bathroom</th>\n",
       "      <th>floor/totalFloor</th>\n",
       "      <th>locality</th>\n",
       "    </tr>\n",
       "  </thead>\n",
       "  <tbody>\n",
       "    <tr>\n",
       "      <th>19</th>\n",
       "      <td>W</td>\n",
       "      <td>3</td>\n",
       "      <td>Semi</td>\n",
       "      <td>False</td>\n",
       "      <td>True</td>\n",
       "      <td>False</td>\n",
       "      <td>2000</td>\n",
       "      <td>BOTH</td>\n",
       "      <td>1100</td>\n",
       "      <td>18000</td>\n",
       "      <td>False</td>\n",
       "      <td>3</td>\n",
       "      <td>BHK2</td>\n",
       "      <td>CORP_BORE</td>\n",
       "      <td>5+</td>\n",
       "      <td>1</td>\n",
       "      <td>2</td>\n",
       "      <td>3/3</td>\n",
       "      <td>KUKATPALLY</td>\n",
       "    </tr>\n",
       "    <tr>\n",
       "      <th>8074</th>\n",
       "      <td>None</td>\n",
       "      <td>3</td>\n",
       "      <td>Semi</td>\n",
       "      <td>False</td>\n",
       "      <td>True</td>\n",
       "      <td>False</td>\n",
       "      <td>1500</td>\n",
       "      <td>BOTH</td>\n",
       "      <td>1100</td>\n",
       "      <td>18000</td>\n",
       "      <td>False</td>\n",
       "      <td>5</td>\n",
       "      <td>BHK2</td>\n",
       "      <td>None</td>\n",
       "      <td>0</td>\n",
       "      <td>0</td>\n",
       "      <td>2</td>\n",
       "      <td>3/5</td>\n",
       "      <td>KUKATPALLY</td>\n",
       "    </tr>\n",
       "  </tbody>\n",
       "</table>\n",
       "</div>"
      ],
      "text/plain": [
       "     facing floor furnishingDesc    gym  isMaintenance   lift  \\\n",
       "19        W     3           Semi  False           True  False   \n",
       "8074   None     3           Semi  False           True  False   \n",
       "\n",
       "      maintenanceAmount parking  property_size  rent_amount  swimmingPool  \\\n",
       "19                 2000    BOTH           1100        18000         False   \n",
       "8074               1500    BOTH           1100        18000         False   \n",
       "\n",
       "     totalFloor type_bhk waterSupply property_age Balcony Bathroom  \\\n",
       "19            3     BHK2   CORP_BORE           5+       1        2   \n",
       "8074          5     BHK2        None            0       0        2   \n",
       "\n",
       "     floor/totalFloor    locality  \n",
       "19                3/3  KUKATPALLY  \n",
       "8074              3/5  KUKATPALLY  "
      ]
     },
     "execution_count": 61,
     "metadata": {},
     "output_type": "execute_result"
    }
   ],
   "source": [
    "df[(df['locality']=='KUKATPALLY')&(df['parking']=='BOTH')&(df['lift']==False)&(df['property_size']==1100)&(df['rent_amount']==18000)]"
   ]
  },
  {
   "cell_type": "code",
   "execution_count": 62,
   "metadata": {},
   "outputs": [
    {
     "data": {
      "text/plain": [
       "594"
      ]
     },
     "execution_count": 62,
     "metadata": {},
     "output_type": "execute_result"
    }
   ],
   "source": [
    "loc=df[\"locality\"].value_counts()\n",
    "len(loc)"
   ]
  },
  {
   "cell_type": "code",
   "execution_count": 63,
   "metadata": {},
   "outputs": [],
   "source": [
    "less=[]\n",
    "for key in loc.keys():\n",
    "     if(loc[key]<=10):\n",
    "            less.append(key)"
   ]
  },
  {
   "cell_type": "code",
   "execution_count": 64,
   "metadata": {},
   "outputs": [
    {
     "data": {
      "text/plain": [
       "420"
      ]
     },
     "execution_count": 64,
     "metadata": {},
     "output_type": "execute_result"
    }
   ],
   "source": [
    "len(less)"
   ]
  },
  {
   "cell_type": "code",
   "execution_count": 65,
   "metadata": {},
   "outputs": [],
   "source": [
    "df = df[~df.locality.isin(less)]"
   ]
  },
  {
   "cell_type": "code",
   "execution_count": 66,
   "metadata": {
    "scrolled": true
   },
   "outputs": [
    {
     "data": {
      "text/plain": [
       "KUKATPALLY       1537\n",
       "KONDAPUR         1076\n",
       "MIYAPUR           582\n",
       "CHANDANAGAR       468\n",
       "GACHIBOWLI        461\n",
       "                 ... \n",
       "PRAGATINAGAR       11\n",
       "BANDLAGUDA         11\n",
       "CHINTALMET         11\n",
       "NAMPALLY           11\n",
       "HIMAYATHNAGAR      11\n",
       "Name: locality, Length: 174, dtype: int64"
      ]
     },
     "execution_count": 66,
     "metadata": {},
     "output_type": "execute_result"
    }
   ],
   "source": [
    "df['locality'].value_counts()"
   ]
  },
  {
   "cell_type": "code",
   "execution_count": 67,
   "metadata": {},
   "outputs": [
    {
     "data": {
      "text/html": [
       "<div>\n",
       "<style scoped>\n",
       "    .dataframe tbody tr th:only-of-type {\n",
       "        vertical-align: middle;\n",
       "    }\n",
       "\n",
       "    .dataframe tbody tr th {\n",
       "        vertical-align: top;\n",
       "    }\n",
       "\n",
       "    .dataframe thead th {\n",
       "        text-align: right;\n",
       "    }\n",
       "</style>\n",
       "<table border=\"1\" class=\"dataframe\">\n",
       "  <thead>\n",
       "    <tr style=\"text-align: right;\">\n",
       "      <th></th>\n",
       "      <th>facing</th>\n",
       "      <th>floor</th>\n",
       "      <th>furnishingDesc</th>\n",
       "      <th>gym</th>\n",
       "      <th>isMaintenance</th>\n",
       "      <th>lift</th>\n",
       "      <th>maintenanceAmount</th>\n",
       "      <th>parking</th>\n",
       "      <th>property_size</th>\n",
       "      <th>rent_amount</th>\n",
       "      <th>swimmingPool</th>\n",
       "      <th>totalFloor</th>\n",
       "      <th>type_bhk</th>\n",
       "      <th>waterSupply</th>\n",
       "      <th>property_age</th>\n",
       "      <th>Balcony</th>\n",
       "      <th>Bathroom</th>\n",
       "      <th>floor/totalFloor</th>\n",
       "      <th>locality</th>\n",
       "    </tr>\n",
       "  </thead>\n",
       "  <tbody>\n",
       "    <tr>\n",
       "      <th>19</th>\n",
       "      <td>W</td>\n",
       "      <td>3</td>\n",
       "      <td>Semi</td>\n",
       "      <td>False</td>\n",
       "      <td>True</td>\n",
       "      <td>False</td>\n",
       "      <td>2000</td>\n",
       "      <td>BOTH</td>\n",
       "      <td>1100</td>\n",
       "      <td>18000</td>\n",
       "      <td>False</td>\n",
       "      <td>3</td>\n",
       "      <td>BHK2</td>\n",
       "      <td>CORP_BORE</td>\n",
       "      <td>5+</td>\n",
       "      <td>1</td>\n",
       "      <td>2</td>\n",
       "      <td>3/3</td>\n",
       "      <td>KUKATPALLY</td>\n",
       "    </tr>\n",
       "    <tr>\n",
       "      <th>34</th>\n",
       "      <td>E</td>\n",
       "      <td>3</td>\n",
       "      <td>Unfurnished</td>\n",
       "      <td>False</td>\n",
       "      <td>True</td>\n",
       "      <td>True</td>\n",
       "      <td>2000</td>\n",
       "      <td>BOTH</td>\n",
       "      <td>1000</td>\n",
       "      <td>15000</td>\n",
       "      <td>False</td>\n",
       "      <td>5</td>\n",
       "      <td>BHK2</td>\n",
       "      <td>CORP_BORE</td>\n",
       "      <td>1-5</td>\n",
       "      <td>1</td>\n",
       "      <td>2</td>\n",
       "      <td>3/5</td>\n",
       "      <td>KUKATPALLY</td>\n",
       "    </tr>\n",
       "    <tr>\n",
       "      <th>47</th>\n",
       "      <td>N</td>\n",
       "      <td>5</td>\n",
       "      <td>Semi</td>\n",
       "      <td>False</td>\n",
       "      <td>True</td>\n",
       "      <td>True</td>\n",
       "      <td>2000</td>\n",
       "      <td>BOTH</td>\n",
       "      <td>1200</td>\n",
       "      <td>18000</td>\n",
       "      <td>False</td>\n",
       "      <td>5</td>\n",
       "      <td>BHK3</td>\n",
       "      <td>CORP_BORE</td>\n",
       "      <td>0</td>\n",
       "      <td>1</td>\n",
       "      <td>2</td>\n",
       "      <td>5/5</td>\n",
       "      <td>KUKATPALLY</td>\n",
       "    </tr>\n",
       "    <tr>\n",
       "      <th>52</th>\n",
       "      <td>W</td>\n",
       "      <td>2</td>\n",
       "      <td>Semi</td>\n",
       "      <td>False</td>\n",
       "      <td>True</td>\n",
       "      <td>True</td>\n",
       "      <td>2100</td>\n",
       "      <td>BOTH</td>\n",
       "      <td>1100</td>\n",
       "      <td>18000</td>\n",
       "      <td>False</td>\n",
       "      <td>4</td>\n",
       "      <td>BHK2</td>\n",
       "      <td>CORP_BORE</td>\n",
       "      <td>1-5</td>\n",
       "      <td>2</td>\n",
       "      <td>2</td>\n",
       "      <td>2/4</td>\n",
       "      <td>KUKATPALLY</td>\n",
       "    </tr>\n",
       "    <tr>\n",
       "      <th>167</th>\n",
       "      <td>E</td>\n",
       "      <td>2</td>\n",
       "      <td>Full</td>\n",
       "      <td>False</td>\n",
       "      <td>False</td>\n",
       "      <td>False</td>\n",
       "      <td>0</td>\n",
       "      <td>BOTH</td>\n",
       "      <td>300</td>\n",
       "      <td>14000</td>\n",
       "      <td>False</td>\n",
       "      <td>3</td>\n",
       "      <td>RK1</td>\n",
       "      <td>CORP_BORE</td>\n",
       "      <td>1-5</td>\n",
       "      <td>1</td>\n",
       "      <td>1</td>\n",
       "      <td>2/3</td>\n",
       "      <td>KUKATPALLY</td>\n",
       "    </tr>\n",
       "    <tr>\n",
       "      <th>...</th>\n",
       "      <td>...</td>\n",
       "      <td>...</td>\n",
       "      <td>...</td>\n",
       "      <td>...</td>\n",
       "      <td>...</td>\n",
       "      <td>...</td>\n",
       "      <td>...</td>\n",
       "      <td>...</td>\n",
       "      <td>...</td>\n",
       "      <td>...</td>\n",
       "      <td>...</td>\n",
       "      <td>...</td>\n",
       "      <td>...</td>\n",
       "      <td>...</td>\n",
       "      <td>...</td>\n",
       "      <td>...</td>\n",
       "      <td>...</td>\n",
       "      <td>...</td>\n",
       "      <td>...</td>\n",
       "    </tr>\n",
       "    <tr>\n",
       "      <th>19073</th>\n",
       "      <td>None</td>\n",
       "      <td>2</td>\n",
       "      <td>Unfurnished</td>\n",
       "      <td>False</td>\n",
       "      <td>False</td>\n",
       "      <td>False</td>\n",
       "      <td>0</td>\n",
       "      <td>TWO_WHEELER</td>\n",
       "      <td>500</td>\n",
       "      <td>7000</td>\n",
       "      <td>False</td>\n",
       "      <td>2</td>\n",
       "      <td>BHK1</td>\n",
       "      <td>None</td>\n",
       "      <td>1-5</td>\n",
       "      <td>0</td>\n",
       "      <td>1</td>\n",
       "      <td>2/2</td>\n",
       "      <td>KUKATPALLY</td>\n",
       "    </tr>\n",
       "    <tr>\n",
       "      <th>19074</th>\n",
       "      <td>None</td>\n",
       "      <td>0</td>\n",
       "      <td>Unfurnished</td>\n",
       "      <td>False</td>\n",
       "      <td>False</td>\n",
       "      <td>False</td>\n",
       "      <td>0</td>\n",
       "      <td>TWO_WHEELER</td>\n",
       "      <td>1000</td>\n",
       "      <td>11000</td>\n",
       "      <td>False</td>\n",
       "      <td>2</td>\n",
       "      <td>BHK2</td>\n",
       "      <td>None</td>\n",
       "      <td>1-5</td>\n",
       "      <td>0</td>\n",
       "      <td>2</td>\n",
       "      <td>0/2</td>\n",
       "      <td>KUKATPALLY</td>\n",
       "    </tr>\n",
       "    <tr>\n",
       "      <th>19075</th>\n",
       "      <td>SE</td>\n",
       "      <td>1</td>\n",
       "      <td>Semi</td>\n",
       "      <td>False</td>\n",
       "      <td>False</td>\n",
       "      <td>False</td>\n",
       "      <td>0</td>\n",
       "      <td>TWO_WHEELER</td>\n",
       "      <td>1000</td>\n",
       "      <td>14000</td>\n",
       "      <td>False</td>\n",
       "      <td>2</td>\n",
       "      <td>BHK2</td>\n",
       "      <td>None</td>\n",
       "      <td>5+</td>\n",
       "      <td>0</td>\n",
       "      <td>2</td>\n",
       "      <td>1/2</td>\n",
       "      <td>KUKATPALLY</td>\n",
       "    </tr>\n",
       "    <tr>\n",
       "      <th>19091</th>\n",
       "      <td>None</td>\n",
       "      <td>3</td>\n",
       "      <td>Unfurnished</td>\n",
       "      <td>False</td>\n",
       "      <td>True</td>\n",
       "      <td>False</td>\n",
       "      <td>1000</td>\n",
       "      <td>TWO_WHEELER</td>\n",
       "      <td>1000</td>\n",
       "      <td>12500</td>\n",
       "      <td>False</td>\n",
       "      <td>4</td>\n",
       "      <td>BHK2</td>\n",
       "      <td>None</td>\n",
       "      <td>1-5</td>\n",
       "      <td>0</td>\n",
       "      <td>2</td>\n",
       "      <td>3/4</td>\n",
       "      <td>KUKATPALLY</td>\n",
       "    </tr>\n",
       "    <tr>\n",
       "      <th>19108</th>\n",
       "      <td>None</td>\n",
       "      <td>3</td>\n",
       "      <td>Unfurnished</td>\n",
       "      <td>False</td>\n",
       "      <td>False</td>\n",
       "      <td>False</td>\n",
       "      <td>0</td>\n",
       "      <td>TWO_WHEELER</td>\n",
       "      <td>500</td>\n",
       "      <td>7000</td>\n",
       "      <td>False</td>\n",
       "      <td>3</td>\n",
       "      <td>BHK1</td>\n",
       "      <td>None</td>\n",
       "      <td>1-5</td>\n",
       "      <td>0</td>\n",
       "      <td>1</td>\n",
       "      <td>3/3</td>\n",
       "      <td>KUKATPALLY</td>\n",
       "    </tr>\n",
       "  </tbody>\n",
       "</table>\n",
       "<p>1537 rows × 19 columns</p>\n",
       "</div>"
      ],
      "text/plain": [
       "      facing floor furnishingDesc    gym  isMaintenance   lift  \\\n",
       "19         W     3           Semi  False           True  False   \n",
       "34         E     3    Unfurnished  False           True   True   \n",
       "47         N     5           Semi  False           True   True   \n",
       "52         W     2           Semi  False           True   True   \n",
       "167        E     2           Full  False          False  False   \n",
       "...      ...   ...            ...    ...            ...    ...   \n",
       "19073   None     2    Unfurnished  False          False  False   \n",
       "19074   None     0    Unfurnished  False          False  False   \n",
       "19075     SE     1           Semi  False          False  False   \n",
       "19091   None     3    Unfurnished  False           True  False   \n",
       "19108   None     3    Unfurnished  False          False  False   \n",
       "\n",
       "       maintenanceAmount      parking  property_size  rent_amount  \\\n",
       "19                  2000         BOTH           1100        18000   \n",
       "34                  2000         BOTH           1000        15000   \n",
       "47                  2000         BOTH           1200        18000   \n",
       "52                  2100         BOTH           1100        18000   \n",
       "167                    0         BOTH            300        14000   \n",
       "...                  ...          ...            ...          ...   \n",
       "19073                  0  TWO_WHEELER            500         7000   \n",
       "19074                  0  TWO_WHEELER           1000        11000   \n",
       "19075                  0  TWO_WHEELER           1000        14000   \n",
       "19091               1000  TWO_WHEELER           1000        12500   \n",
       "19108                  0  TWO_WHEELER            500         7000   \n",
       "\n",
       "       swimmingPool totalFloor type_bhk waterSupply property_age Balcony  \\\n",
       "19            False          3     BHK2   CORP_BORE           5+       1   \n",
       "34            False          5     BHK2   CORP_BORE          1-5       1   \n",
       "47            False          5     BHK3   CORP_BORE            0       1   \n",
       "52            False          4     BHK2   CORP_BORE          1-5       2   \n",
       "167           False          3      RK1   CORP_BORE          1-5       1   \n",
       "...             ...        ...      ...         ...          ...     ...   \n",
       "19073         False          2     BHK1        None          1-5       0   \n",
       "19074         False          2     BHK2        None          1-5       0   \n",
       "19075         False          2     BHK2        None           5+       0   \n",
       "19091         False          4     BHK2        None          1-5       0   \n",
       "19108         False          3     BHK1        None          1-5       0   \n",
       "\n",
       "      Bathroom floor/totalFloor    locality  \n",
       "19           2              3/3  KUKATPALLY  \n",
       "34           2              3/5  KUKATPALLY  \n",
       "47           2              5/5  KUKATPALLY  \n",
       "52           2              2/4  KUKATPALLY  \n",
       "167          1              2/3  KUKATPALLY  \n",
       "...        ...              ...         ...  \n",
       "19073        1              2/2  KUKATPALLY  \n",
       "19074        2              0/2  KUKATPALLY  \n",
       "19075        2              1/2  KUKATPALLY  \n",
       "19091        2              3/4  KUKATPALLY  \n",
       "19108        1              3/3  KUKATPALLY  \n",
       "\n",
       "[1537 rows x 19 columns]"
      ]
     },
     "execution_count": 67,
     "metadata": {},
     "output_type": "execute_result"
    }
   ],
   "source": [
    "df[df['locality']=='KUKATPALLY']"
   ]
  },
  {
   "cell_type": "code",
   "execution_count": 68,
   "metadata": {},
   "outputs": [
    {
     "data": {
      "text/plain": [
       "Index(['facing', 'floor', 'furnishingDesc', 'gym', 'isMaintenance', 'lift',\n",
       "       'maintenanceAmount', 'parking', 'property_size', 'rent_amount',\n",
       "       'swimmingPool', 'totalFloor', 'type_bhk', 'waterSupply', 'property_age',\n",
       "       'Balcony', 'Bathroom', 'floor/totalFloor', 'locality'],\n",
       "      dtype='object')"
      ]
     },
     "execution_count": 68,
     "metadata": {},
     "output_type": "execute_result"
    }
   ],
   "source": [
    "df.columns"
   ]
  },
  {
   "cell_type": "code",
   "execution_count": 69,
   "metadata": {},
   "outputs": [],
   "source": [
    "df.drop(['floor','totalFloor'],axis=1,inplace=True)"
   ]
  },
  {
   "cell_type": "code",
   "execution_count": 70,
   "metadata": {},
   "outputs": [
    {
     "data": {
      "text/plain": [
       "174"
      ]
     },
     "execution_count": 70,
     "metadata": {},
     "output_type": "execute_result"
    }
   ],
   "source": [
    "loc=df[\"locality\"].value_counts()\n",
    "len(loc)"
   ]
  },
  {
   "cell_type": "code",
   "execution_count": 71,
   "metadata": {},
   "outputs": [],
   "source": [
    "less=[]\n",
    "for key in loc.keys():\n",
    "     if(loc[key]<100):\n",
    "            less.append(key)"
   ]
  },
  {
   "cell_type": "code",
   "execution_count": 72,
   "metadata": {},
   "outputs": [
    {
     "data": {
      "text/plain": [
       "147"
      ]
     },
     "execution_count": 72,
     "metadata": {},
     "output_type": "execute_result"
    }
   ],
   "source": [
    "len(less)"
   ]
  },
  {
   "cell_type": "code",
   "execution_count": 73,
   "metadata": {},
   "outputs": [],
   "source": [
    "df=df.replace(to_replace =less,value =\"other\") "
   ]
  },
  {
   "cell_type": "code",
   "execution_count": 74,
   "metadata": {},
   "outputs": [
    {
     "data": {
      "text/plain": [
       "Index(['facing', 'furnishingDesc', 'gym', 'isMaintenance', 'lift',\n",
       "       'maintenanceAmount', 'parking', 'property_size', 'rent_amount',\n",
       "       'swimmingPool', 'type_bhk', 'waterSupply', 'property_age', 'Balcony',\n",
       "       'Bathroom', 'floor/totalFloor', 'locality'],\n",
       "      dtype='object')"
      ]
     },
     "execution_count": 74,
     "metadata": {},
     "output_type": "execute_result"
    }
   ],
   "source": [
    "df.columns"
   ]
  },
  {
   "cell_type": "code",
   "execution_count": 75,
   "metadata": {},
   "outputs": [
    {
     "data": {
      "text/plain": [
       "array([1000,  500, 2000, 2700,    0,  800, 2100,  700, 1200, 2500, 1500,\n",
       "       2400, 1800, 1600, 2200,  200,  300, 1100, 1400, 1700, 1300, 2800,\n",
       "        100,  600, 2600,  900,  400, 2300, 1900, 2900])"
      ]
     },
     "execution_count": 75,
     "metadata": {},
     "output_type": "execute_result"
    }
   ],
   "source": [
    "df['maintenanceAmount'].unique()"
   ]
  },
  {
   "cell_type": "code",
   "execution_count": 76,
   "metadata": {},
   "outputs": [],
   "source": [
    "df['property_size']=df['property_size'].astype(object)\n",
    "df['maintenanceAmount']=df['maintenanceAmount'].astype(object)"
   ]
  },
  {
   "cell_type": "code",
   "execution_count": 77,
   "metadata": {},
   "outputs": [
    {
     "name": "stdout",
     "output_type": "stream",
     "text": [
      "**********\n",
      "**********\n",
      "**********\n",
      "**********\n",
      "**********\n",
      "**********\n",
      "**********\n",
      "**********\n",
      "**********\n",
      "**********\n",
      "**********\n",
      "**********\n"
     ]
    }
   ],
   "source": [
    "list_of_dict = list()\n",
    "count_value = ['parking', 'furnishingDesc', 'type_bhk',\n",
    "              'facing','waterSupply', 'property_age',\n",
    "               'Balcony', 'Bathroom',\n",
    "               'floor/totalFloor','locality','maintenanceAmount','property_size']\n",
    "for value in count_value:\n",
    "    temp = df.groupby(value)['rent_amount'].mean()\n",
    "    temp = temp.to_frame()\n",
    "    temp = temp.sort_values(by='rent_amount',ascending=False)\n",
    "    temp_dict = dict()\n",
    "    j = temp.shape[0]\n",
    "    for i in range(temp.shape[0]):\n",
    "        temp_dict[temp.index[i]] = j\n",
    "        j = j - 1        \n",
    "\n",
    "    list_of_dict.append(temp_dict)  \n",
    "    #print(temp.iloc[:,0])\n",
    "    #print(temp)\n",
    "    print(\"*\"*10)"
   ]
  },
  {
   "cell_type": "code",
   "execution_count": 78,
   "metadata": {},
   "outputs": [
    {
     "name": "stdout",
     "output_type": "stream",
     "text": [
      "[{'FOUR_WHEELER': 4, 'BOTH': 3, 'TWO_WHEELER': 2, 'NONE': 1}, {'Full': 3, 'Semi': 2, 'Unfurnished': 1}, {'BHK4PLUS': 6, 'BHK4': 5, 'BHK3': 4, 'BHK2': 3, 'BHK1': 2, 'RK1': 1}, {'W': 10, 'SE': 9, 'S': 8, 'NE': 7, 'E': 6, 'SW': 5, 'DK': 4, 'N': 3, 'NW': 2, 'None': 1}, {'CORP_BORE': 4, 'BOREWELL': 3, 'CORPORATION': 2, 'None': 1}, {'0': 3, '1-5': 2, '5+': 1}, {'4': 6, '3': 5, '2': 4, '4+': 3, '1': 2, '0': 1}, {'5+': 5, '4': 4, '3': 3, '2': 2, '1': 1}, {'4/6': 27, '5/6': 26, '2/6': 25, '4/5': 24, '1/6': 23, '1/5': 22, '2/5': 21, '3/5': 20, '5/5': 19, '3/6': 18, '6/6': 17, '1/4': 16, '2/4': 15, '0/5': 14, '3/4': 13, '4/4': 12, '0/4': 11, '1/3': 10, '0/3': 9, '2/3': 8, '1/2': 7, '3/3': 6, '1/1': 5, '2/2': 4, '0/1': 3, '0/2': 2, '0/0': 1}, {'BANJARAHILLS': 28, 'MADHAPUR': 27, 'KONDAPUR': 26, 'GACHIBOWLI': 25, 'MANIKONDA': 24, 'TOLICHOWKI': 23, 'MEHDIPATNAM': 22, 'SHAIKPET': 21, 'SERILINGAMPALLY': 20, 'BEGUMPET': 19, 'MIYAPUR': 18, 'PRAGATHINAGAR': 17, 'KUKATPALLY': 16, 'NIZAMPET': 15, 'CHANDANAGAR': 14, 'HAFEEZPET': 13, 'ATTAPUR': 12, 'SERILINGAMPALLE': 11, 'other': 10, 'YOUSUFGUDA': 9, 'NAGOLE': 8, 'AMBERPET': 7, 'BORABANDA': 6, 'UPPAL': 5, 'VANASTHALIPURAM': 4, 'RAMACHANDRAPURAM': 3, 'MALKAJGIRI': 2, 'BODUPPAL': 1}, {2700: 30, 2800: 29, 2600: 28, 2500: 27, 2300: 26, 2200: 25, 2900: 24, 2100: 23, 2400: 22, 2000: 21, 1900: 20, 1600: 19, 1800: 18, 1700: 17, 1500: 16, 1200: 15, 1300: 14, 1400: 13, 1000: 12, 1100: 11, 900: 10, 800: 9, 0: 8, 700: 7, 600: 6, 500: 5, 300: 4, 400: 3, 100: 2, 200: 1}, {1900: 19, 1700: 18, 1800: 17, 1600: 16, 1500: 15, 1400: 14, 1300: 13, 1200: 12, 1100: 11, 1000: 10, 900: 9, 800: 8, 700: 7, 600: 6, 500: 5, 400: 4, 300: 3, 200: 2, 100: 1}]\n"
     ]
    }
   ],
   "source": [
    "print(list_of_dict)"
   ]
  },
  {
   "cell_type": "markdown",
   "metadata": {},
   "source": [
    "['furnishingDesc', 'isMaintenance', 'lift', 'maintenanceAmount',\n",
    "       'parking', 'property_size', 'rent_amount', 'type_bhk', 'waterSupply',\n",
    "       'Balcony', 'Bathroom', 'floor/totalFloor', 'locality']"
   ]
  },
  {
   "cell_type": "code",
   "execution_count": 79,
   "metadata": {},
   "outputs": [
    {
     "data": {
      "text/plain": [
       "[1, False, False, 17, 4, 12, 3, 2, 2, 2, 16, 27]"
      ]
     },
     "execution_count": 79,
     "metadata": {},
     "output_type": "execute_result"
    }
   ],
   "source": [
    "[1,False,False,17,4,12,3,2,2,2,16,27]"
   ]
  },
  {
   "cell_type": "code",
   "execution_count": 80,
   "metadata": {},
   "outputs": [
    {
     "data": {
      "text/plain": [
       "12"
      ]
     },
     "execution_count": 80,
     "metadata": {},
     "output_type": "execute_result"
    }
   ],
   "source": [
    "len(list_of_dict)"
   ]
  },
  {
   "cell_type": "code",
   "execution_count": 81,
   "metadata": {},
   "outputs": [],
   "source": [
    "df[count_value[0]] = df[count_value[0]].map(list_of_dict[0])\n",
    "df[count_value[1]] = df[count_value[1]].map(list_of_dict[1])\n",
    "df[count_value[2]] = df[count_value[2]].map(list_of_dict[2])\n",
    "df[count_value[3]] = df[count_value[3]].map(list_of_dict[3])\n",
    "df[count_value[4]] = df[count_value[4]].map(list_of_dict[4])\n",
    "df[count_value[5]] = df[count_value[5]].map(list_of_dict[5])\n",
    "df[count_value[6]] = df[count_value[6]].map(list_of_dict[6])\n",
    "df[count_value[7]] = df[count_value[7]].map(list_of_dict[7])\n",
    "df[count_value[8]] = df[count_value[8]].map(list_of_dict[8])\n",
    "df[count_value[9]] = df[count_value[9]].map(list_of_dict[9])\n",
    "df[count_value[10]] = df[count_value[10]].map(list_of_dict[10])\n",
    "df[count_value[11]] = df[count_value[11]].map(list_of_dict[11])"
   ]
  },
  {
   "cell_type": "code",
   "execution_count": 82,
   "metadata": {},
   "outputs": [
    {
     "data": {
      "text/plain": [
       "facing               0.162902\n",
       "furnishingDesc       0.491543\n",
       "gym                  0.171656\n",
       "isMaintenance        0.318014\n",
       "lift                 0.398388\n",
       "maintenanceAmount    0.539616\n",
       "parking              0.420760\n",
       "property_size        0.688962\n",
       "rent_amount          1.000000\n",
       "swimmingPool         0.160507\n",
       "type_bhk             0.681436\n",
       "waterSupply          0.130774\n",
       "property_age         0.029120\n",
       "Balcony              0.270202\n",
       "Bathroom             0.644565\n",
       "floor/totalFloor     0.463846\n",
       "locality             0.356135\n",
       "Name: rent_amount, dtype: float64"
      ]
     },
     "execution_count": 82,
     "metadata": {},
     "output_type": "execute_result"
    }
   ],
   "source": [
    "data_copy_corr = df.corr()\n",
    "data_copy_corr = data_copy_corr['rent_amount']\n",
    "data_copy_corr"
   ]
  },
  {
   "cell_type": "code",
   "execution_count": 83,
   "metadata": {},
   "outputs": [
    {
     "data": {
      "text/plain": [
       "10    2008\n",
       "5     1477\n",
       "12    1277\n",
       "11    1210\n",
       "9     1015\n",
       "8      915\n",
       "6      766\n",
       "15     700\n",
       "7      623\n",
       "13     572\n",
       "4      567\n",
       "14     484\n",
       "16     429\n",
       "2      357\n",
       "3      327\n",
       "1      287\n",
       "17     230\n",
       "18     200\n",
       "19      56\n",
       "Name: property_size, dtype: int64"
      ]
     },
     "execution_count": 83,
     "metadata": {},
     "output_type": "execute_result"
    }
   ],
   "source": [
    "df['property_size'].value_counts()"
   ]
  },
  {
   "cell_type": "code",
   "execution_count": 84,
   "metadata": {},
   "outputs": [
    {
     "ename": "NameError",
     "evalue": "name 'dddd' is not defined",
     "output_type": "error",
     "traceback": [
      "\u001b[1;31m---------------------------------------------------------------------------\u001b[0m",
      "\u001b[1;31mNameError\u001b[0m                                 Traceback (most recent call last)",
      "\u001b[1;32m<ipython-input-84-a4ee26cea582>\u001b[0m in \u001b[0;36m<module>\u001b[1;34m\u001b[0m\n\u001b[1;32m----> 1\u001b[1;33m \u001b[0mdddd\u001b[0m\u001b[1;33m\u001b[0m\u001b[1;33m\u001b[0m\u001b[0m\n\u001b[0m",
      "\u001b[1;31mNameError\u001b[0m: name 'dddd' is not defined"
     ]
    }
   ],
   "source": [
    "dddd"
   ]
  },
  {
   "cell_type": "code",
   "execution_count": 85,
   "metadata": {},
   "outputs": [],
   "source": [
    "df.to_csv('new1.csv', index=False)  "
   ]
  },
  {
   "cell_type": "code",
   "execution_count": null,
   "metadata": {},
   "outputs": [],
   "source": [
    "ll=[]\n",
    "ll=df.columns\n",
    "z=df.head(1)"
   ]
  },
  {
   "cell_type": "code",
   "execution_count": null,
   "metadata": {},
   "outputs": [],
   "source": [
    "df.head()"
   ]
  },
  {
   "cell_type": "code",
   "execution_count": null,
   "metadata": {},
   "outputs": [],
   "source": []
  },
  {
   "cell_type": "code",
   "execution_count": null,
   "metadata": {},
   "outputs": [],
   "source": [
    "p=[]\n",
    "for i in ll:\n",
    "    print(z[i].unique())"
   ]
  },
  {
   "cell_type": "code",
   "execution_count": null,
   "metadata": {},
   "outputs": [],
   "source": [
    "p"
   ]
  },
  {
   "cell_type": "code",
   "execution_count": null,
   "metadata": {},
   "outputs": [],
   "source": [
    "for i in range(100,5000,100):\n",
    "    data.loc[(data['maintenanceAmount'] >= i) & (data['maintenanceAmount'] < i+100), 'maintenanceAmount'] = i"
   ]
  }
 ],
 "metadata": {
  "kernelspec": {
   "display_name": "Python 3",
   "language": "python",
   "name": "python3"
  },
  "language_info": {
   "codemirror_mode": {
    "name": "ipython",
    "version": 3
   },
   "file_extension": ".py",
   "mimetype": "text/x-python",
   "name": "python",
   "nbconvert_exporter": "python",
   "pygments_lexer": "ipython3",
   "version": "3.8.5"
  }
 },
 "nbformat": 4,
 "nbformat_minor": 4
}
