{
 "cells": [
  {
   "cell_type": "code",
   "execution_count": 1,
   "metadata": {},
   "outputs": [],
   "source": [
    "import pandas as pd\n",
    "import numpy as np\n",
    "from sklearn import preprocessing\n",
    "from sklearn import model_selection\n",
    "import matplotlib.pyplot as plt\n",
    "import seaborn as sns"
   ]
  },
  {
   "cell_type": "code",
   "execution_count": 2,
   "metadata": {},
   "outputs": [],
   "source": [
    "data=pd.read_csv('new1.csv')"
   ]
  },
  {
   "cell_type": "code",
   "execution_count": 3,
   "metadata": {},
   "outputs": [
    {
     "data": {
      "text/plain": [
       "Index(['facing', 'furnishingDesc', 'gym', 'isMaintenance', 'lift',\n",
       "       'maintenanceAmount', 'parking', 'property_size', 'rent_amount',\n",
       "       'swimmingPool', 'type_bhk', 'waterSupply', 'property_age', 'Balcony',\n",
       "       'Bathroom', 'floor/totalFloor', 'locality'],\n",
       "      dtype='object')"
      ]
     },
     "execution_count": 3,
     "metadata": {},
     "output_type": "execute_result"
    }
   ],
   "source": [
    "data.columns"
   ]
  },
  {
   "cell_type": "code",
   "execution_count": 4,
   "metadata": {},
   "outputs": [],
   "source": [
    "data.drop(['property_age','swimmingPool','gym','facing'],axis=1,inplace=True)"
   ]
  },
  {
   "cell_type": "code",
   "execution_count": 5,
   "metadata": {},
   "outputs": [],
   "source": [
    "rr=data.columns"
   ]
  },
  {
   "cell_type": "code",
   "execution_count": 6,
   "metadata": {},
   "outputs": [
    {
     "data": {
      "text/plain": [
       "13"
      ]
     },
     "execution_count": 6,
     "metadata": {},
     "output_type": "execute_result"
    }
   ],
   "source": [
    "len(rr)"
   ]
  },
  {
   "cell_type": "code",
   "execution_count": 7,
   "metadata": {},
   "outputs": [
    {
     "data": {
      "text/html": [
       "<div>\n",
       "<style scoped>\n",
       "    .dataframe tbody tr th:only-of-type {\n",
       "        vertical-align: middle;\n",
       "    }\n",
       "\n",
       "    .dataframe tbody tr th {\n",
       "        vertical-align: top;\n",
       "    }\n",
       "\n",
       "    .dataframe thead th {\n",
       "        text-align: right;\n",
       "    }\n",
       "</style>\n",
       "<table border=\"1\" class=\"dataframe\">\n",
       "  <thead>\n",
       "    <tr style=\"text-align: right;\">\n",
       "      <th></th>\n",
       "      <th>furnishingDesc</th>\n",
       "      <th>isMaintenance</th>\n",
       "      <th>lift</th>\n",
       "      <th>maintenanceAmount</th>\n",
       "      <th>parking</th>\n",
       "      <th>property_size</th>\n",
       "      <th>rent_amount</th>\n",
       "      <th>type_bhk</th>\n",
       "      <th>waterSupply</th>\n",
       "      <th>Balcony</th>\n",
       "      <th>Bathroom</th>\n",
       "      <th>floor/totalFloor</th>\n",
       "      <th>locality</th>\n",
       "    </tr>\n",
       "  </thead>\n",
       "  <tbody>\n",
       "    <tr>\n",
       "      <th>13495</th>\n",
       "      <td>1</td>\n",
       "      <td>False</td>\n",
       "      <td>False</td>\n",
       "      <td>8</td>\n",
       "      <td>2</td>\n",
       "      <td>3</td>\n",
       "      <td>8000</td>\n",
       "      <td>1</td>\n",
       "      <td>1</td>\n",
       "      <td>1</td>\n",
       "      <td>1</td>\n",
       "      <td>9</td>\n",
       "      <td>10</td>\n",
       "    </tr>\n",
       "    <tr>\n",
       "      <th>13496</th>\n",
       "      <td>1</td>\n",
       "      <td>True</td>\n",
       "      <td>True</td>\n",
       "      <td>5</td>\n",
       "      <td>3</td>\n",
       "      <td>5</td>\n",
       "      <td>8500</td>\n",
       "      <td>2</td>\n",
       "      <td>1</td>\n",
       "      <td>1</td>\n",
       "      <td>1</td>\n",
       "      <td>14</td>\n",
       "      <td>25</td>\n",
       "    </tr>\n",
       "    <tr>\n",
       "      <th>13497</th>\n",
       "      <td>1</td>\n",
       "      <td>True</td>\n",
       "      <td>False</td>\n",
       "      <td>5</td>\n",
       "      <td>3</td>\n",
       "      <td>9</td>\n",
       "      <td>8500</td>\n",
       "      <td>3</td>\n",
       "      <td>3</td>\n",
       "      <td>4</td>\n",
       "      <td>2</td>\n",
       "      <td>15</td>\n",
       "      <td>10</td>\n",
       "    </tr>\n",
       "    <tr>\n",
       "      <th>13498</th>\n",
       "      <td>1</td>\n",
       "      <td>False</td>\n",
       "      <td>False</td>\n",
       "      <td>8</td>\n",
       "      <td>3</td>\n",
       "      <td>11</td>\n",
       "      <td>15000</td>\n",
       "      <td>3</td>\n",
       "      <td>1</td>\n",
       "      <td>1</td>\n",
       "      <td>3</td>\n",
       "      <td>6</td>\n",
       "      <td>10</td>\n",
       "    </tr>\n",
       "    <tr>\n",
       "      <th>13499</th>\n",
       "      <td>1</td>\n",
       "      <td>False</td>\n",
       "      <td>False</td>\n",
       "      <td>8</td>\n",
       "      <td>2</td>\n",
       "      <td>5</td>\n",
       "      <td>7000</td>\n",
       "      <td>2</td>\n",
       "      <td>1</td>\n",
       "      <td>1</td>\n",
       "      <td>1</td>\n",
       "      <td>6</td>\n",
       "      <td>16</td>\n",
       "    </tr>\n",
       "  </tbody>\n",
       "</table>\n",
       "</div>"
      ],
      "text/plain": [
       "       furnishingDesc  isMaintenance   lift  maintenanceAmount  parking  \\\n",
       "13495               1          False  False                  8        2   \n",
       "13496               1           True   True                  5        3   \n",
       "13497               1           True  False                  5        3   \n",
       "13498               1          False  False                  8        3   \n",
       "13499               1          False  False                  8        2   \n",
       "\n",
       "       property_size  rent_amount  type_bhk  waterSupply  Balcony  Bathroom  \\\n",
       "13495              3         8000         1            1        1         1   \n",
       "13496              5         8500         2            1        1         1   \n",
       "13497              9         8500         3            3        4         2   \n",
       "13498             11        15000         3            1        1         3   \n",
       "13499              5         7000         2            1        1         1   \n",
       "\n",
       "       floor/totalFloor  locality  \n",
       "13495                 9        10  \n",
       "13496                14        25  \n",
       "13497                15        10  \n",
       "13498                 6        10  \n",
       "13499                 6        16  "
      ]
     },
     "execution_count": 7,
     "metadata": {},
     "output_type": "execute_result"
    }
   ],
   "source": [
    "data.tail()"
   ]
  },
  {
   "cell_type": "code",
   "execution_count": 8,
   "metadata": {},
   "outputs": [],
   "source": [
    "#X=data.drop(drop_columns)\n",
    "#X=X.drop('rent_amount_Boxcox')\n",
    "X=data.drop(['rent_amount'],axis=1)\n",
    "y=data['rent_amount']"
   ]
  },
  {
   "cell_type": "code",
   "execution_count": 9,
   "metadata": {},
   "outputs": [],
   "source": [
    "# train-test 80-20 split\n",
    "X_train, X_test, y_train, y_test = model_selection.train_test_split(X,\n",
    "                                     y,                             \n",
    "                                     test_size = 0.2, \n",
    "                                     random_state = 100)\n"
   ]
  },
  {
   "cell_type": "code",
   "execution_count": null,
   "metadata": {},
   "outputs": [],
   "source": []
  },
  {
   "cell_type": "markdown",
   "metadata": {},
   "source": [
    "# Linear Regression"
   ]
  },
  {
   "cell_type": "code",
   "execution_count": 10,
   "metadata": {},
   "outputs": [],
   "source": [
    "from sklearn import linear_model\n",
    "from sklearn import metrics\n",
    "from sklearn.metrics import mean_absolute_error"
   ]
  },
  {
   "cell_type": "code",
   "execution_count": 11,
   "metadata": {},
   "outputs": [],
   "source": [
    "linearRegression = linear_model.LinearRegression()"
   ]
  },
  {
   "cell_type": "code",
   "execution_count": 12,
   "metadata": {},
   "outputs": [
    {
     "data": {
      "text/plain": [
       "LinearRegression(copy_X=True, fit_intercept=True, n_jobs=None, normalize=False)"
      ]
     },
     "execution_count": 12,
     "metadata": {},
     "output_type": "execute_result"
    }
   ],
   "source": [
    "linearRegression.fit(X_train, y_train)"
   ]
  },
  {
   "cell_type": "code",
   "execution_count": 13,
   "metadata": {},
   "outputs": [],
   "source": [
    "ypred = linearRegression.predict(X_test)"
   ]
  },
  {
   "cell_type": "code",
   "execution_count": 14,
   "metadata": {},
   "outputs": [
    {
     "name": "stdout",
     "output_type": "stream",
     "text": [
      "MAE: 2468.749366491327\n",
      "MSE: 11381105.635970024\n",
      "RMSE: 3373.58942907551\n",
      "r2_score: 0.6870472906221571\n"
     ]
    }
   ],
   "source": [
    "print('MAE:', metrics.mean_absolute_error(y_test, ypred))\n",
    "print('MSE:', metrics.mean_squared_error(y_test, ypred))\n",
    "print('RMSE:', np.sqrt(metrics.mean_squared_error(y_test, ypred)))\n",
    "print('r2_score:', metrics.r2_score(y_test, ypred))"
   ]
  },
  {
   "cell_type": "code",
   "execution_count": null,
   "metadata": {},
   "outputs": [],
   "source": []
  },
  {
   "cell_type": "markdown",
   "metadata": {},
   "source": [
    "# Ransac Regressor"
   ]
  },
  {
   "cell_type": "code",
   "execution_count": 15,
   "metadata": {},
   "outputs": [
    {
     "data": {
      "text/plain": [
       "RANSACRegressor(base_estimator=LinearRegression(copy_X=True, fit_intercept=True,\n",
       "                                                n_jobs=None, normalize=False),\n",
       "                is_data_valid=None, is_model_valid=None, loss='absolute_loss',\n",
       "                max_skips=inf, max_trials=20, min_samples=50, random_state=0,\n",
       "                residual_threshold=5.0, stop_n_inliers=inf,\n",
       "                stop_probability=0.99, stop_score=inf)"
      ]
     },
     "execution_count": 15,
     "metadata": {},
     "output_type": "execute_result"
    }
   ],
   "source": [
    "from sklearn.linear_model import LinearRegression\n",
    "from sklearn.linear_model import RANSACRegressor\n",
    "ransac = RANSACRegressor(LinearRegression(),\n",
    "                        max_trials=20,\n",
    "                        min_samples=50,\n",
    "                        residual_threshold=5.0,\n",
    "                        random_state=0)\n",
    "ransac.fit(X_train, y_train)"
   ]
  },
  {
   "cell_type": "code",
   "execution_count": 16,
   "metadata": {},
   "outputs": [],
   "source": [
    "ransacpred=ransac.predict(X_test)\n"
   ]
  },
  {
   "cell_type": "code",
   "execution_count": 17,
   "metadata": {},
   "outputs": [
    {
     "name": "stdout",
     "output_type": "stream",
     "text": [
      "MAE: 3036.455749880519\n",
      "MSE: 17961836.608369667\n",
      "RMSE: 4238.14070181367\n",
      "r2_score: 0.5060932029111853\n"
     ]
    }
   ],
   "source": [
    "print('MAE:', metrics.mean_absolute_error(y_test, ransacpred))\n",
    "print('MSE:', metrics.mean_squared_error(y_test, ransacpred))\n",
    "print('RMSE:', np.sqrt(metrics.mean_squared_error(y_test, ransacpred)))\n",
    "print('r2_score:', metrics.r2_score(y_test, ransacpred))"
   ]
  },
  {
   "cell_type": "markdown",
   "metadata": {},
   "source": [
    "# Lasso Regression"
   ]
  },
  {
   "cell_type": "code",
   "execution_count": 18,
   "metadata": {},
   "outputs": [],
   "source": [
    "from sklearn.linear_model import Lasso"
   ]
  },
  {
   "cell_type": "code",
   "execution_count": 19,
   "metadata": {},
   "outputs": [],
   "source": [
    "la=Lasso(alpha=0.01)"
   ]
  },
  {
   "cell_type": "code",
   "execution_count": 20,
   "metadata": {},
   "outputs": [
    {
     "data": {
      "text/plain": [
       "Lasso(alpha=0.01, copy_X=True, fit_intercept=True, max_iter=1000,\n",
       "      normalize=False, positive=False, precompute=False, random_state=None,\n",
       "      selection='cyclic', tol=0.0001, warm_start=False)"
      ]
     },
     "execution_count": 20,
     "metadata": {},
     "output_type": "execute_result"
    }
   ],
   "source": [
    "la.fit(X_train, y_train)"
   ]
  },
  {
   "cell_type": "code",
   "execution_count": 21,
   "metadata": {},
   "outputs": [],
   "source": [
    "lapred=la.predict(X_test)"
   ]
  },
  {
   "cell_type": "code",
   "execution_count": 22,
   "metadata": {},
   "outputs": [
    {
     "name": "stdout",
     "output_type": "stream",
     "text": [
      "MAE: 2468.745616478789\n",
      "MSE: 11381095.26047523\n",
      "RMSE: 3373.5878913221204\n",
      "r2_score: 0.6870475759230155\n"
     ]
    }
   ],
   "source": [
    "print('MAE:', metrics.mean_absolute_error(y_test, lapred))\n",
    "print('MSE:', metrics.mean_squared_error(y_test, lapred))\n",
    "print('RMSE:', np.sqrt(metrics.mean_squared_error(y_test, lapred)))\n",
    "print('r2_score:', metrics.r2_score(y_test, lapred))"
   ]
  },
  {
   "cell_type": "markdown",
   "metadata": {},
   "source": [
    "# Ridge Regression"
   ]
  },
  {
   "cell_type": "code",
   "execution_count": 23,
   "metadata": {},
   "outputs": [],
   "source": [
    "from sklearn.linear_model import Ridge"
   ]
  },
  {
   "cell_type": "code",
   "execution_count": 24,
   "metadata": {},
   "outputs": [],
   "source": [
    "rr = Ridge(alpha=0.01) "
   ]
  },
  {
   "cell_type": "code",
   "execution_count": 25,
   "metadata": {},
   "outputs": [
    {
     "data": {
      "text/plain": [
       "Ridge(alpha=0.01, copy_X=True, fit_intercept=True, max_iter=None,\n",
       "      normalize=False, random_state=None, solver='auto', tol=0.001)"
      ]
     },
     "execution_count": 25,
     "metadata": {},
     "output_type": "execute_result"
    }
   ],
   "source": [
    "rr.fit(X_train, y_train)"
   ]
  },
  {
   "cell_type": "code",
   "execution_count": 26,
   "metadata": {},
   "outputs": [],
   "source": [
    "rrpred=rr.predict(X_test)"
   ]
  },
  {
   "cell_type": "code",
   "execution_count": 27,
   "metadata": {},
   "outputs": [
    {
     "name": "stdout",
     "output_type": "stream",
     "text": [
      "MAE: 2468.7489218151577\n",
      "MSE: 11381103.861171925\n",
      "RMSE: 3373.58916603251\n",
      "r2_score: 0.6870473394247858\n"
     ]
    }
   ],
   "source": [
    "print('MAE:', metrics.mean_absolute_error(y_test, rrpred))\n",
    "print('MSE:', metrics.mean_squared_error(y_test, rrpred))\n",
    "print('RMSE:', np.sqrt(metrics.mean_squared_error(y_test, rrpred)))\n",
    "print('r2_score:', metrics.r2_score(y_test, rrpred))"
   ]
  },
  {
   "cell_type": "markdown",
   "metadata": {},
   "source": [
    "# Random Forest"
   ]
  },
  {
   "cell_type": "code",
   "execution_count": 28,
   "metadata": {},
   "outputs": [],
   "source": [
    "from sklearn import ensemble"
   ]
  },
  {
   "cell_type": "code",
   "execution_count": 29,
   "metadata": {},
   "outputs": [],
   "source": [
    "randomForest = ensemble.RandomForestRegressor()"
   ]
  },
  {
   "cell_type": "code",
   "execution_count": 30,
   "metadata": {},
   "outputs": [
    {
     "data": {
      "text/plain": [
       "RandomForestRegressor(bootstrap=True, ccp_alpha=0.0, criterion='mse',\n",
       "                      max_depth=None, max_features='auto', max_leaf_nodes=None,\n",
       "                      max_samples=None, min_impurity_decrease=0.0,\n",
       "                      min_impurity_split=None, min_samples_leaf=1,\n",
       "                      min_samples_split=2, min_weight_fraction_leaf=0.0,\n",
       "                      n_estimators=100, n_jobs=None, oob_score=False,\n",
       "                      random_state=None, verbose=0, warm_start=False)"
      ]
     },
     "execution_count": 30,
     "metadata": {},
     "output_type": "execute_result"
    }
   ],
   "source": [
    "randomForest.fit(X_train, y_train)"
   ]
  },
  {
   "cell_type": "code",
   "execution_count": 31,
   "metadata": {},
   "outputs": [],
   "source": [
    "rfpred = randomForest.predict(X_test)"
   ]
  },
  {
   "cell_type": "code",
   "execution_count": 32,
   "metadata": {},
   "outputs": [
    {
     "name": "stdout",
     "output_type": "stream",
     "text": [
      "MAE: 2223.985602497955\n",
      "MSE: 10179221.007046873\n",
      "RMSE: 3190.4891485549474\n",
      "r2_score: 0.7200961931639553\n"
     ]
    }
   ],
   "source": [
    "print('MAE:', metrics.mean_absolute_error(y_test, rfpred))\n",
    "print('MSE:', metrics.mean_squared_error(y_test, rfpred))\n",
    "print('RMSE:', np.sqrt(metrics.mean_squared_error(y_test, rfpred)))\n",
    "print('r2_score:', metrics.r2_score(y_test, rfpred))"
   ]
  },
  {
   "cell_type": "markdown",
   "metadata": {},
   "source": [
    "# XGBoost"
   ]
  },
  {
   "cell_type": "code",
   "execution_count": 33,
   "metadata": {},
   "outputs": [],
   "source": [
    "import xgboost as xgb"
   ]
  },
  {
   "cell_type": "code",
   "execution_count": 34,
   "metadata": {},
   "outputs": [],
   "source": [
    "# Hyper paramaeters for xgb\n",
    "# https://blog.cambridgespark.com/hyperparameter-tuning-in-xgboost-4ff9100a3b2f"
   ]
  },
  {
   "cell_type": "code",
   "execution_count": 35,
   "metadata": {},
   "outputs": [],
   "source": [
    "dtrain = xgb.DMatrix(X_train, label=y_train)\n",
    "dtest = xgb.DMatrix(X_test, label=y_test)"
   ]
  },
  {
   "cell_type": "code",
   "execution_count": 36,
   "metadata": {},
   "outputs": [],
   "source": [
    "params = {\n",
    "    # Parameters that we are going to tune.\n",
    "    'max_depth':6,\n",
    "    'min_child_weight': 1,\n",
    "    'eta':.3,\n",
    "    'subsample': 1,\n",
    "    'colsample_bytree': 1,\n",
    "    # Other parameters\n",
    "    'objective':'reg:squarederror',\n",
    "    'eval_metric':'mae'\n",
    "}"
   ]
  },
  {
   "cell_type": "code",
   "execution_count": 37,
   "metadata": {},
   "outputs": [],
   "source": [
    "num_boost_round = 999\n"
   ]
  },
  {
   "cell_type": "code",
   "execution_count": 38,
   "metadata": {},
   "outputs": [
    {
     "name": "stdout",
     "output_type": "stream",
     "text": [
      "[0]\tTest-mae:9048.34\n",
      "Will train until Test-mae hasn't improved in 10 rounds.\n",
      "[1]\tTest-mae:6351.76\n",
      "[2]\tTest-mae:4535.65\n",
      "[3]\tTest-mae:3409.01\n",
      "[4]\tTest-mae:2794.8\n",
      "[5]\tTest-mae:2491.37\n",
      "[6]\tTest-mae:2348.25\n",
      "[7]\tTest-mae:2272.75\n",
      "[8]\tTest-mae:2240.17\n",
      "[9]\tTest-mae:2218.81\n",
      "[10]\tTest-mae:2210.29\n",
      "[11]\tTest-mae:2199.89\n",
      "[12]\tTest-mae:2193.78\n",
      "[13]\tTest-mae:2195.2\n",
      "[14]\tTest-mae:2195.83\n",
      "[15]\tTest-mae:2191.29\n",
      "[16]\tTest-mae:2185.7\n",
      "[17]\tTest-mae:2186.76\n",
      "[18]\tTest-mae:2185.3\n",
      "[19]\tTest-mae:2181.95\n",
      "[20]\tTest-mae:2174.87\n",
      "[21]\tTest-mae:2172.8\n",
      "[22]\tTest-mae:2170.45\n",
      "[23]\tTest-mae:2170.97\n",
      "[24]\tTest-mae:2169.98\n",
      "[25]\tTest-mae:2168.36\n",
      "[26]\tTest-mae:2167.32\n",
      "[27]\tTest-mae:2166.63\n",
      "[28]\tTest-mae:2164.71\n",
      "[29]\tTest-mae:2163.09\n",
      "[30]\tTest-mae:2159.68\n",
      "[31]\tTest-mae:2161.42\n",
      "[32]\tTest-mae:2160.78\n",
      "[33]\tTest-mae:2162.38\n",
      "[34]\tTest-mae:2162.61\n",
      "[35]\tTest-mae:2162.39\n",
      "[36]\tTest-mae:2160.62\n",
      "[37]\tTest-mae:2159.86\n",
      "[38]\tTest-mae:2160.41\n",
      "[39]\tTest-mae:2162.17\n",
      "[40]\tTest-mae:2163.43\n",
      "Stopping. Best iteration:\n",
      "[30]\tTest-mae:2159.68\n",
      "\n"
     ]
    }
   ],
   "source": [
    "model = xgb.train(\n",
    "    params,\n",
    "    dtrain,\n",
    "    num_boost_round=num_boost_round,\n",
    "    evals=[(dtest, \"Test\")],\n",
    "    early_stopping_rounds=10\n",
    ")"
   ]
  },
  {
   "cell_type": "code",
   "execution_count": null,
   "metadata": {},
   "outputs": [],
   "source": []
  },
  {
   "cell_type": "code",
   "execution_count": 39,
   "metadata": {},
   "outputs": [],
   "source": [
    "cv_results = xgb.cv(\n",
    "    params,\n",
    "    dtrain,\n",
    "    num_boost_round=num_boost_round,\n",
    "    seed=42,\n",
    "    nfold=5,\n",
    "    metrics={'mae'},\n",
    "    early_stopping_rounds=10\n",
    ")"
   ]
  },
  {
   "cell_type": "code",
   "execution_count": 40,
   "metadata": {},
   "outputs": [
    {
     "data": {
      "text/html": [
       "<div>\n",
       "<style scoped>\n",
       "    .dataframe tbody tr th:only-of-type {\n",
       "        vertical-align: middle;\n",
       "    }\n",
       "\n",
       "    .dataframe tbody tr th {\n",
       "        vertical-align: top;\n",
       "    }\n",
       "\n",
       "    .dataframe thead th {\n",
       "        text-align: right;\n",
       "    }\n",
       "</style>\n",
       "<table border=\"1\" class=\"dataframe\">\n",
       "  <thead>\n",
       "    <tr style=\"text-align: right;\">\n",
       "      <th></th>\n",
       "      <th>train-mae-mean</th>\n",
       "      <th>train-mae-std</th>\n",
       "      <th>test-mae-mean</th>\n",
       "      <th>test-mae-std</th>\n",
       "    </tr>\n",
       "  </thead>\n",
       "  <tbody>\n",
       "    <tr>\n",
       "      <th>0</th>\n",
       "      <td>9078.736328</td>\n",
       "      <td>20.097668</td>\n",
       "      <td>9086.429297</td>\n",
       "      <td>111.084027</td>\n",
       "    </tr>\n",
       "    <tr>\n",
       "      <th>1</th>\n",
       "      <td>6384.625293</td>\n",
       "      <td>14.854920</td>\n",
       "      <td>6402.288281</td>\n",
       "      <td>109.970504</td>\n",
       "    </tr>\n",
       "    <tr>\n",
       "      <th>2</th>\n",
       "      <td>4562.336328</td>\n",
       "      <td>12.305310</td>\n",
       "      <td>4591.781250</td>\n",
       "      <td>102.757985</td>\n",
       "    </tr>\n",
       "    <tr>\n",
       "      <th>3</th>\n",
       "      <td>3421.286035</td>\n",
       "      <td>12.642377</td>\n",
       "      <td>3477.415674</td>\n",
       "      <td>83.488214</td>\n",
       "    </tr>\n",
       "    <tr>\n",
       "      <th>4</th>\n",
       "      <td>2771.463721</td>\n",
       "      <td>14.740804</td>\n",
       "      <td>2855.713965</td>\n",
       "      <td>73.199768</td>\n",
       "    </tr>\n",
       "    <tr>\n",
       "      <th>5</th>\n",
       "      <td>2430.409814</td>\n",
       "      <td>14.058801</td>\n",
       "      <td>2539.810645</td>\n",
       "      <td>64.718861</td>\n",
       "    </tr>\n",
       "    <tr>\n",
       "      <th>6</th>\n",
       "      <td>2251.609912</td>\n",
       "      <td>14.789621</td>\n",
       "      <td>2384.578320</td>\n",
       "      <td>58.991060</td>\n",
       "    </tr>\n",
       "    <tr>\n",
       "      <th>7</th>\n",
       "      <td>2163.001660</td>\n",
       "      <td>15.854780</td>\n",
       "      <td>2318.221875</td>\n",
       "      <td>53.080160</td>\n",
       "    </tr>\n",
       "    <tr>\n",
       "      <th>8</th>\n",
       "      <td>2115.824023</td>\n",
       "      <td>15.714314</td>\n",
       "      <td>2285.558935</td>\n",
       "      <td>52.043146</td>\n",
       "    </tr>\n",
       "    <tr>\n",
       "      <th>9</th>\n",
       "      <td>2088.302588</td>\n",
       "      <td>19.760146</td>\n",
       "      <td>2273.921045</td>\n",
       "      <td>51.007632</td>\n",
       "    </tr>\n",
       "    <tr>\n",
       "      <th>10</th>\n",
       "      <td>2067.289917</td>\n",
       "      <td>17.944173</td>\n",
       "      <td>2268.659326</td>\n",
       "      <td>50.350912</td>\n",
       "    </tr>\n",
       "    <tr>\n",
       "      <th>11</th>\n",
       "      <td>2049.233887</td>\n",
       "      <td>15.661097</td>\n",
       "      <td>2265.909424</td>\n",
       "      <td>50.932155</td>\n",
       "    </tr>\n",
       "    <tr>\n",
       "      <th>12</th>\n",
       "      <td>2038.929761</td>\n",
       "      <td>14.083779</td>\n",
       "      <td>2265.323193</td>\n",
       "      <td>53.308479</td>\n",
       "    </tr>\n",
       "    <tr>\n",
       "      <th>13</th>\n",
       "      <td>2025.813110</td>\n",
       "      <td>16.683306</td>\n",
       "      <td>2261.182178</td>\n",
       "      <td>52.242652</td>\n",
       "    </tr>\n",
       "    <tr>\n",
       "      <th>14</th>\n",
       "      <td>2014.008618</td>\n",
       "      <td>20.123896</td>\n",
       "      <td>2256.000732</td>\n",
       "      <td>51.483504</td>\n",
       "    </tr>\n",
       "    <tr>\n",
       "      <th>15</th>\n",
       "      <td>2005.197681</td>\n",
       "      <td>20.703280</td>\n",
       "      <td>2254.669678</td>\n",
       "      <td>51.981156</td>\n",
       "    </tr>\n",
       "    <tr>\n",
       "      <th>16</th>\n",
       "      <td>1999.432935</td>\n",
       "      <td>22.862635</td>\n",
       "      <td>2255.344385</td>\n",
       "      <td>50.597548</td>\n",
       "    </tr>\n",
       "    <tr>\n",
       "      <th>17</th>\n",
       "      <td>1989.630200</td>\n",
       "      <td>21.259157</td>\n",
       "      <td>2249.817529</td>\n",
       "      <td>51.822746</td>\n",
       "    </tr>\n",
       "    <tr>\n",
       "      <th>18</th>\n",
       "      <td>1980.095508</td>\n",
       "      <td>21.248470</td>\n",
       "      <td>2248.225439</td>\n",
       "      <td>51.996725</td>\n",
       "    </tr>\n",
       "    <tr>\n",
       "      <th>19</th>\n",
       "      <td>1972.120264</td>\n",
       "      <td>21.653693</td>\n",
       "      <td>2245.753467</td>\n",
       "      <td>52.331634</td>\n",
       "    </tr>\n",
       "    <tr>\n",
       "      <th>20</th>\n",
       "      <td>1963.512134</td>\n",
       "      <td>17.661983</td>\n",
       "      <td>2246.980615</td>\n",
       "      <td>52.021765</td>\n",
       "    </tr>\n",
       "    <tr>\n",
       "      <th>21</th>\n",
       "      <td>1956.708594</td>\n",
       "      <td>18.026475</td>\n",
       "      <td>2245.162891</td>\n",
       "      <td>52.998282</td>\n",
       "    </tr>\n",
       "    <tr>\n",
       "      <th>22</th>\n",
       "      <td>1947.797021</td>\n",
       "      <td>15.624133</td>\n",
       "      <td>2242.903125</td>\n",
       "      <td>54.243753</td>\n",
       "    </tr>\n",
       "    <tr>\n",
       "      <th>23</th>\n",
       "      <td>1936.612988</td>\n",
       "      <td>17.397876</td>\n",
       "      <td>2241.710742</td>\n",
       "      <td>53.217463</td>\n",
       "    </tr>\n",
       "    <tr>\n",
       "      <th>24</th>\n",
       "      <td>1930.408203</td>\n",
       "      <td>21.158840</td>\n",
       "      <td>2240.913428</td>\n",
       "      <td>51.018877</td>\n",
       "    </tr>\n",
       "    <tr>\n",
       "      <th>25</th>\n",
       "      <td>1922.782837</td>\n",
       "      <td>20.767551</td>\n",
       "      <td>2239.681055</td>\n",
       "      <td>50.876921</td>\n",
       "    </tr>\n",
       "    <tr>\n",
       "      <th>26</th>\n",
       "      <td>1915.304785</td>\n",
       "      <td>24.729791</td>\n",
       "      <td>2238.094678</td>\n",
       "      <td>50.244642</td>\n",
       "    </tr>\n",
       "    <tr>\n",
       "      <th>27</th>\n",
       "      <td>1905.815088</td>\n",
       "      <td>25.375987</td>\n",
       "      <td>2236.342090</td>\n",
       "      <td>49.224266</td>\n",
       "    </tr>\n",
       "    <tr>\n",
       "      <th>28</th>\n",
       "      <td>1897.454956</td>\n",
       "      <td>26.588404</td>\n",
       "      <td>2235.263965</td>\n",
       "      <td>48.763239</td>\n",
       "    </tr>\n",
       "    <tr>\n",
       "      <th>29</th>\n",
       "      <td>1887.713696</td>\n",
       "      <td>27.721885</td>\n",
       "      <td>2235.482080</td>\n",
       "      <td>48.568568</td>\n",
       "    </tr>\n",
       "    <tr>\n",
       "      <th>30</th>\n",
       "      <td>1879.962549</td>\n",
       "      <td>27.218984</td>\n",
       "      <td>2234.550830</td>\n",
       "      <td>49.491702</td>\n",
       "    </tr>\n",
       "    <tr>\n",
       "      <th>31</th>\n",
       "      <td>1873.376489</td>\n",
       "      <td>26.314202</td>\n",
       "      <td>2235.142773</td>\n",
       "      <td>48.147953</td>\n",
       "    </tr>\n",
       "    <tr>\n",
       "      <th>32</th>\n",
       "      <td>1863.750488</td>\n",
       "      <td>25.965519</td>\n",
       "      <td>2235.556543</td>\n",
       "      <td>49.984537</td>\n",
       "    </tr>\n",
       "    <tr>\n",
       "      <th>33</th>\n",
       "      <td>1855.991919</td>\n",
       "      <td>26.297395</td>\n",
       "      <td>2236.667383</td>\n",
       "      <td>51.330732</td>\n",
       "    </tr>\n",
       "    <tr>\n",
       "      <th>34</th>\n",
       "      <td>1847.702490</td>\n",
       "      <td>24.178329</td>\n",
       "      <td>2236.950342</td>\n",
       "      <td>52.196382</td>\n",
       "    </tr>\n",
       "    <tr>\n",
       "      <th>35</th>\n",
       "      <td>1837.529248</td>\n",
       "      <td>23.718112</td>\n",
       "      <td>2235.115235</td>\n",
       "      <td>52.815027</td>\n",
       "    </tr>\n",
       "    <tr>\n",
       "      <th>36</th>\n",
       "      <td>1832.425318</td>\n",
       "      <td>22.916320</td>\n",
       "      <td>2234.936914</td>\n",
       "      <td>52.838145</td>\n",
       "    </tr>\n",
       "    <tr>\n",
       "      <th>37</th>\n",
       "      <td>1825.489233</td>\n",
       "      <td>22.269237</td>\n",
       "      <td>2235.346924</td>\n",
       "      <td>52.717783</td>\n",
       "    </tr>\n",
       "    <tr>\n",
       "      <th>38</th>\n",
       "      <td>1817.389697</td>\n",
       "      <td>22.720435</td>\n",
       "      <td>2235.281689</td>\n",
       "      <td>54.733074</td>\n",
       "    </tr>\n",
       "    <tr>\n",
       "      <th>39</th>\n",
       "      <td>1811.407568</td>\n",
       "      <td>22.222491</td>\n",
       "      <td>2234.330908</td>\n",
       "      <td>55.286781</td>\n",
       "    </tr>\n",
       "  </tbody>\n",
       "</table>\n",
       "</div>"
      ],
      "text/plain": [
       "    train-mae-mean  train-mae-std  test-mae-mean  test-mae-std\n",
       "0      9078.736328      20.097668    9086.429297    111.084027\n",
       "1      6384.625293      14.854920    6402.288281    109.970504\n",
       "2      4562.336328      12.305310    4591.781250    102.757985\n",
       "3      3421.286035      12.642377    3477.415674     83.488214\n",
       "4      2771.463721      14.740804    2855.713965     73.199768\n",
       "5      2430.409814      14.058801    2539.810645     64.718861\n",
       "6      2251.609912      14.789621    2384.578320     58.991060\n",
       "7      2163.001660      15.854780    2318.221875     53.080160\n",
       "8      2115.824023      15.714314    2285.558935     52.043146\n",
       "9      2088.302588      19.760146    2273.921045     51.007632\n",
       "10     2067.289917      17.944173    2268.659326     50.350912\n",
       "11     2049.233887      15.661097    2265.909424     50.932155\n",
       "12     2038.929761      14.083779    2265.323193     53.308479\n",
       "13     2025.813110      16.683306    2261.182178     52.242652\n",
       "14     2014.008618      20.123896    2256.000732     51.483504\n",
       "15     2005.197681      20.703280    2254.669678     51.981156\n",
       "16     1999.432935      22.862635    2255.344385     50.597548\n",
       "17     1989.630200      21.259157    2249.817529     51.822746\n",
       "18     1980.095508      21.248470    2248.225439     51.996725\n",
       "19     1972.120264      21.653693    2245.753467     52.331634\n",
       "20     1963.512134      17.661983    2246.980615     52.021765\n",
       "21     1956.708594      18.026475    2245.162891     52.998282\n",
       "22     1947.797021      15.624133    2242.903125     54.243753\n",
       "23     1936.612988      17.397876    2241.710742     53.217463\n",
       "24     1930.408203      21.158840    2240.913428     51.018877\n",
       "25     1922.782837      20.767551    2239.681055     50.876921\n",
       "26     1915.304785      24.729791    2238.094678     50.244642\n",
       "27     1905.815088      25.375987    2236.342090     49.224266\n",
       "28     1897.454956      26.588404    2235.263965     48.763239\n",
       "29     1887.713696      27.721885    2235.482080     48.568568\n",
       "30     1879.962549      27.218984    2234.550830     49.491702\n",
       "31     1873.376489      26.314202    2235.142773     48.147953\n",
       "32     1863.750488      25.965519    2235.556543     49.984537\n",
       "33     1855.991919      26.297395    2236.667383     51.330732\n",
       "34     1847.702490      24.178329    2236.950342     52.196382\n",
       "35     1837.529248      23.718112    2235.115235     52.815027\n",
       "36     1832.425318      22.916320    2234.936914     52.838145\n",
       "37     1825.489233      22.269237    2235.346924     52.717783\n",
       "38     1817.389697      22.720435    2235.281689     54.733074\n",
       "39     1811.407568      22.222491    2234.330908     55.286781"
      ]
     },
     "execution_count": 40,
     "metadata": {},
     "output_type": "execute_result"
    }
   ],
   "source": [
    "cv_results"
   ]
  },
  {
   "cell_type": "code",
   "execution_count": 41,
   "metadata": {},
   "outputs": [
    {
     "data": {
      "text/plain": [
       "2234.3309082"
      ]
     },
     "execution_count": 41,
     "metadata": {},
     "output_type": "execute_result"
    }
   ],
   "source": [
    "cv_results['test-mae-mean'].min()"
   ]
  },
  {
   "cell_type": "code",
   "execution_count": 42,
   "metadata": {},
   "outputs": [],
   "source": [
    "# You can try wider intervals with a larger step between\n",
    "# each value and then narrow it down. Here after several\n",
    "# iteration I found that the optimal value was in the\n",
    "# following ranges.\n",
    "gridsearch_params = [\n",
    "    (max_depth, min_child_weight)\n",
    "    for max_depth in range(9,12)\n",
    "    for min_child_weight in range(5,8)\n",
    "]"
   ]
  },
  {
   "cell_type": "code",
   "execution_count": 43,
   "metadata": {},
   "outputs": [
    {
     "name": "stdout",
     "output_type": "stream",
     "text": [
      "CV with max_depth=9, min_child_weight=5\n",
      "\tMAE 2234.1213376 for 13 rounds\n",
      "CV with max_depth=9, min_child_weight=6\n",
      "\tMAE 2236.3591796 for 11 rounds\n",
      "CV with max_depth=9, min_child_weight=7\n",
      "\tMAE 2233.5447752 for 17 rounds\n",
      "CV with max_depth=10, min_child_weight=5\n",
      "\tMAE 2237.7655762 for 11 rounds\n",
      "CV with max_depth=10, min_child_weight=6\n",
      "\tMAE 2245.3039062 for 11 rounds\n",
      "CV with max_depth=10, min_child_weight=7\n",
      "\tMAE 2240.7346192 for 11 rounds\n",
      "CV with max_depth=11, min_child_weight=5\n",
      "\tMAE 2250.264795 for 10 rounds\n",
      "CV with max_depth=11, min_child_weight=6\n",
      "\tMAE 2245.2053712 for 11 rounds\n",
      "CV with max_depth=11, min_child_weight=7\n",
      "\tMAE 2251.2786619999997 for 11 rounds\n",
      "Best params: 9, 7, MAE: 2233.5447752\n"
     ]
    }
   ],
   "source": [
    "# Define initial best params and MAE\n",
    "min_mae = float(\"Inf\")\n",
    "best_params = None\n",
    "for max_depth, min_child_weight in gridsearch_params:\n",
    "    print(\"CV with max_depth={}, min_child_weight={}\".format(\n",
    "                             max_depth,\n",
    "                             min_child_weight))\n",
    "    # Update our parameters\n",
    "    params['max_depth'] = max_depth\n",
    "    params['min_child_weight'] = min_child_weight\n",
    "    # Run CV\n",
    "    cv_results = xgb.cv(\n",
    "        params,\n",
    "        dtrain,\n",
    "        num_boost_round=num_boost_round,\n",
    "        seed=42,\n",
    "        nfold=5,\n",
    "        metrics={'mae'},\n",
    "        early_stopping_rounds=10\n",
    "    )\n",
    "    # Update best MAE\n",
    "    mean_mae = cv_results['test-mae-mean'].min()\n",
    "    boost_rounds = cv_results['test-mae-mean'].argmin()\n",
    "    print(\"\\tMAE {} for {} rounds\".format(mean_mae, boost_rounds))\n",
    "    if mean_mae < min_mae:\n",
    "        min_mae = mean_mae\n",
    "        best_params = (max_depth,min_child_weight)\n",
    "print(\"Best params: {}, {}, MAE: {}\".format(best_params[0], best_params[1], min_mae))"
   ]
  },
  {
   "cell_type": "code",
   "execution_count": 44,
   "metadata": {},
   "outputs": [],
   "source": [
    "# can change\n",
    "params['max_depth']=9\n",
    "params['min_child_weight']=7"
   ]
  },
  {
   "cell_type": "code",
   "execution_count": 45,
   "metadata": {},
   "outputs": [],
   "source": [
    "gridsearch_params = [\n",
    "    (subsample, colsample)\n",
    "    for subsample in [i/10. for i in range(7,11)]\n",
    "    for colsample in [i/10. for i in range(7,11)]\n",
    "]"
   ]
  },
  {
   "cell_type": "code",
   "execution_count": 46,
   "metadata": {},
   "outputs": [
    {
     "name": "stdout",
     "output_type": "stream",
     "text": [
      "CV with subsample=1.0, colsample=1.0\n",
      "\tMAE 2233.5447752 for 17 rounds\n",
      "CV with subsample=1.0, colsample=0.9\n",
      "\tMAE 2229.9153321999997 for 11 rounds\n",
      "CV with subsample=1.0, colsample=0.8\n",
      "\tMAE 2242.9685546 for 20 rounds\n",
      "CV with subsample=1.0, colsample=0.7\n",
      "\tMAE 2230.0000976 for 13 rounds\n",
      "CV with subsample=0.9, colsample=1.0\n",
      "\tMAE 2244.135889 for 10 rounds\n",
      "CV with subsample=0.9, colsample=0.9\n",
      "\tMAE 2240.3543458 for 10 rounds\n",
      "CV with subsample=0.9, colsample=0.8\n",
      "\tMAE 2233.4299806 for 12 rounds\n",
      "CV with subsample=0.9, colsample=0.7\n",
      "\tMAE 2233.0796876 for 16 rounds\n",
      "CV with subsample=0.8, colsample=1.0\n",
      "\tMAE 2253.9109374 for 11 rounds\n",
      "CV with subsample=0.8, colsample=0.9\n",
      "\tMAE 2247.8079588 for 11 rounds\n",
      "CV with subsample=0.8, colsample=0.8\n",
      "\tMAE 2232.3724608 for 11 rounds\n",
      "CV with subsample=0.8, colsample=0.7\n",
      "\tMAE 2237.916748 for 12 rounds\n",
      "CV with subsample=0.7, colsample=1.0\n",
      "\tMAE 2265.7612792 for 10 rounds\n",
      "CV with subsample=0.7, colsample=0.9\n",
      "\tMAE 2240.3746091999997 for 10 rounds\n",
      "CV with subsample=0.7, colsample=0.8\n",
      "\tMAE 2244.3281250000005 for 10 rounds\n",
      "CV with subsample=0.7, colsample=0.7\n",
      "\tMAE 2251.3123045999996 for 12 rounds\n",
      "Best params: 1.0, 0.9, MAE: 2229.9153321999997\n"
     ]
    }
   ],
   "source": [
    "min_mae = float(\"Inf\")\n",
    "best_params = None\n",
    "# We start by the largest values and go down to the smallest\n",
    "for subsample, colsample in reversed(gridsearch_params):\n",
    "    print(\"CV with subsample={}, colsample={}\".format(\n",
    "                             subsample,\n",
    "                             colsample))\n",
    "    # We update our parameters\n",
    "    params['subsample'] = subsample\n",
    "    params['colsample_bytree'] = colsample\n",
    "    # Run CV\n",
    "    cv_results = xgb.cv(\n",
    "        params,\n",
    "        dtrain,\n",
    "        num_boost_round=num_boost_round,\n",
    "        seed=42,\n",
    "        nfold=5,\n",
    "        metrics={'mae'},\n",
    "        early_stopping_rounds=10\n",
    "    )\n",
    "    # Update best score\n",
    "    mean_mae = cv_results['test-mae-mean'].min()\n",
    "    boost_rounds = cv_results['test-mae-mean'].argmin()\n",
    "    print(\"\\tMAE {} for {} rounds\".format(mean_mae, boost_rounds))\n",
    "    if mean_mae < min_mae:\n",
    "        min_mae = mean_mae\n",
    "        best_params = (subsample,colsample)\n",
    "print(\"Best params: {}, {}, MAE: {}\".format(best_params[0], best_params[1], min_mae))\n"
   ]
  },
  {
   "cell_type": "code",
   "execution_count": 47,
   "metadata": {},
   "outputs": [],
   "source": [
    "params['subsample']=1.0\n",
    "params['colsample_bytree']=0.7"
   ]
  },
  {
   "cell_type": "code",
   "execution_count": 48,
   "metadata": {},
   "outputs": [
    {
     "name": "stdout",
     "output_type": "stream",
     "text": [
      "Wall time: 0 ns\n",
      "CV with eta=0.3\n",
      "Wall time: 1.63 s\n",
      "\tMAE 2230.0001463999997 for 13 rounds\n",
      "\n",
      "CV with eta=0.2\n",
      "Wall time: 1.66 s\n",
      "\tMAE 2204.7876954 for 19 rounds\n",
      "\n",
      "CV with eta=0.1\n",
      "Wall time: 3.04 s\n",
      "\tMAE 2187.6327147999996 for 36 rounds\n",
      "\n",
      "CV with eta=0.05\n",
      "Wall time: 5.63 s\n",
      "\tMAE 2179.5657714 for 84 rounds\n",
      "\n",
      "CV with eta=0.01\n",
      "Wall time: 30.3 s\n",
      "\tMAE 2177.1006836 for 415 rounds\n",
      "\n",
      "CV with eta=0.005\n",
      "Wall time: 51 s\n",
      "\tMAE 2175.7582032 for 813 rounds\n",
      "\n",
      "Best params: 0.005, MAE: 2175.7582032\n"
     ]
    }
   ],
   "source": [
    "%time\n",
    "# This can take some time…\n",
    "min_mae = float(\"Inf\")\n",
    "best_params = None\n",
    "for eta in [.3, .2, .1, .05, .01, .005]:\n",
    "    print(\"CV with eta={}\".format(eta))\n",
    "    # We update our parameters\n",
    "    params['eta'] = eta\n",
    "    # Run and time CV\n",
    "    %time cv_results = xgb.cv(params, dtrain,num_boost_round=num_boost_round,seed=42,nfold=5,metrics=['mae'],early_stopping_rounds=10)\n",
    "    # Update best score\n",
    "    mean_mae = cv_results['test-mae-mean'].min()\n",
    "    boost_rounds = cv_results['test-mae-mean'].argmin()\n",
    "    print(\"\\tMAE {} for {} rounds\\n\".format(mean_mae, boost_rounds))\n",
    "    if mean_mae < min_mae:\n",
    "        min_mae = mean_mae\n",
    "        best_params = eta\n",
    "print(\"Best params: {}, MAE: {}\".format(best_params, min_mae))"
   ]
  },
  {
   "cell_type": "code",
   "execution_count": 49,
   "metadata": {},
   "outputs": [],
   "source": [
    "params['eta']=0.05"
   ]
  },
  {
   "cell_type": "code",
   "execution_count": 50,
   "metadata": {},
   "outputs": [
    {
     "data": {
      "text/plain": [
       "{'max_depth': 9,\n",
       " 'min_child_weight': 7,\n",
       " 'eta': 0.05,\n",
       " 'subsample': 1.0,\n",
       " 'colsample_bytree': 0.7,\n",
       " 'objective': 'reg:squarederror',\n",
       " 'eval_metric': 'mae'}"
      ]
     },
     "execution_count": 50,
     "metadata": {},
     "output_type": "execute_result"
    }
   ],
   "source": [
    "params"
   ]
  },
  {
   "cell_type": "code",
   "execution_count": 51,
   "metadata": {},
   "outputs": [
    {
     "name": "stdout",
     "output_type": "stream",
     "text": [
      "[0]\tTest-mae:12272.6\n",
      "Will train until Test-mae hasn't improved in 10 rounds.\n",
      "[1]\tTest-mae:11662.9\n",
      "[2]\tTest-mae:11082.7\n",
      "[3]\tTest-mae:10528.4\n",
      "[4]\tTest-mae:10006.8\n",
      "[5]\tTest-mae:9510.95\n",
      "[6]\tTest-mae:9037.6\n",
      "[7]\tTest-mae:8584.04\n",
      "[8]\tTest-mae:8157.82\n",
      "[9]\tTest-mae:7755.13\n",
      "[10]\tTest-mae:7369.45\n",
      "[11]\tTest-mae:7006.34\n",
      "[12]\tTest-mae:6662.15\n",
      "[13]\tTest-mae:6334.93\n",
      "[14]\tTest-mae:6027.85\n",
      "[15]\tTest-mae:5734.2\n",
      "[16]\tTest-mae:5456.18\n",
      "[17]\tTest-mae:5198.7\n",
      "[18]\tTest-mae:4954.09\n",
      "[19]\tTest-mae:4725.31\n",
      "[20]\tTest-mae:4512.67\n",
      "[21]\tTest-mae:4312.72\n",
      "[22]\tTest-mae:4127.51\n",
      "[23]\tTest-mae:3953.68\n",
      "[24]\tTest-mae:3791.05\n",
      "[25]\tTest-mae:3640.62\n",
      "[26]\tTest-mae:3503.2\n",
      "[27]\tTest-mae:3376.72\n",
      "[28]\tTest-mae:3260.44\n",
      "[29]\tTest-mae:3152.2\n",
      "[30]\tTest-mae:3054.31\n",
      "[31]\tTest-mae:2965.88\n",
      "[32]\tTest-mae:2882.47\n",
      "[33]\tTest-mae:2808.93\n",
      "[34]\tTest-mae:2744.06\n",
      "[35]\tTest-mae:2685.94\n",
      "[36]\tTest-mae:2631.65\n",
      "[37]\tTest-mae:2583.05\n",
      "[38]\tTest-mae:2537.25\n",
      "[39]\tTest-mae:2498.13\n",
      "[40]\tTest-mae:2462.64\n",
      "[41]\tTest-mae:2431.83\n",
      "[42]\tTest-mae:2402.36\n",
      "[43]\tTest-mae:2377.78\n",
      "[44]\tTest-mae:2353.49\n",
      "[45]\tTest-mae:2333.86\n",
      "[46]\tTest-mae:2314.3\n",
      "[47]\tTest-mae:2296.92\n",
      "[48]\tTest-mae:2281.08\n",
      "[49]\tTest-mae:2266.34\n",
      "[50]\tTest-mae:2255.5\n",
      "[51]\tTest-mae:2243.44\n",
      "[52]\tTest-mae:2233.67\n",
      "[53]\tTest-mae:2226.91\n",
      "[54]\tTest-mae:2218.45\n",
      "[55]\tTest-mae:2209.74\n",
      "[56]\tTest-mae:2205.12\n",
      "[57]\tTest-mae:2199.83\n",
      "[58]\tTest-mae:2195.23\n",
      "[59]\tTest-mae:2188.16\n",
      "[60]\tTest-mae:2183.54\n",
      "[61]\tTest-mae:2178.68\n",
      "[62]\tTest-mae:2175.12\n",
      "[63]\tTest-mae:2171.53\n",
      "[64]\tTest-mae:2168.45\n",
      "[65]\tTest-mae:2166.2\n",
      "[66]\tTest-mae:2165.66\n",
      "[67]\tTest-mae:2164.5\n",
      "[68]\tTest-mae:2162.73\n",
      "[69]\tTest-mae:2159.41\n",
      "[70]\tTest-mae:2158.92\n",
      "[71]\tTest-mae:2156.98\n",
      "[72]\tTest-mae:2155.75\n",
      "[73]\tTest-mae:2153.87\n",
      "[74]\tTest-mae:2152.07\n",
      "[75]\tTest-mae:2152.37\n",
      "[76]\tTest-mae:2151.42\n",
      "[77]\tTest-mae:2149.75\n",
      "[78]\tTest-mae:2150.19\n",
      "[79]\tTest-mae:2148.33\n",
      "[80]\tTest-mae:2146.57\n",
      "[81]\tTest-mae:2145.65\n",
      "[82]\tTest-mae:2144.95\n",
      "[83]\tTest-mae:2144.47\n",
      "[84]\tTest-mae:2144.83\n",
      "[85]\tTest-mae:2144.42\n",
      "[86]\tTest-mae:2145.79\n",
      "[87]\tTest-mae:2144.67\n",
      "[88]\tTest-mae:2143.34\n",
      "[89]\tTest-mae:2142.87\n",
      "[90]\tTest-mae:2143.72\n",
      "[91]\tTest-mae:2142.75\n",
      "[92]\tTest-mae:2143.22\n",
      "[93]\tTest-mae:2142.08\n",
      "[94]\tTest-mae:2143.38\n",
      "[95]\tTest-mae:2143.73\n",
      "[96]\tTest-mae:2143.82\n",
      "[97]\tTest-mae:2143.16\n",
      "[98]\tTest-mae:2142.53\n",
      "[99]\tTest-mae:2142.63\n",
      "[100]\tTest-mae:2142.03\n",
      "[101]\tTest-mae:2141.91\n",
      "[102]\tTest-mae:2141.62\n",
      "[103]\tTest-mae:2141.87\n",
      "[104]\tTest-mae:2142.17\n",
      "[105]\tTest-mae:2142.53\n",
      "[106]\tTest-mae:2141.96\n",
      "[107]\tTest-mae:2141.92\n",
      "[108]\tTest-mae:2142.67\n",
      "[109]\tTest-mae:2143.11\n",
      "[110]\tTest-mae:2142.78\n",
      "[111]\tTest-mae:2142.68\n",
      "[112]\tTest-mae:2142.12\n",
      "Stopping. Best iteration:\n",
      "[102]\tTest-mae:2141.62\n",
      "\n"
     ]
    }
   ],
   "source": [
    "tunedModel=xgb.train(\n",
    "    params,\n",
    "    dtrain,\n",
    "    num_boost_round=num_boost_round,\n",
    "    evals=[(dtest,\"Test\")],\n",
    "    early_stopping_rounds=10)"
   ]
  },
  {
   "cell_type": "code",
   "execution_count": 52,
   "metadata": {},
   "outputs": [
    {
     "name": "stdout",
     "output_type": "stream",
     "text": [
      "Best MAE: 2141.62 in 103 rounds\n"
     ]
    }
   ],
   "source": [
    "print(\"Best MAE: {:.2f} in {} rounds\".format(tunedModel.best_score, tunedModel.best_iteration+1))\n"
   ]
  },
  {
   "cell_type": "code",
   "execution_count": 53,
   "metadata": {},
   "outputs": [],
   "source": [
    "num_boost_round = tunedModel.best_iteration + 1"
   ]
  },
  {
   "cell_type": "code",
   "execution_count": 54,
   "metadata": {
    "scrolled": true
   },
   "outputs": [
    {
     "name": "stdout",
     "output_type": "stream",
     "text": [
      "[0]\tTest-mae:12272.6\n",
      "[1]\tTest-mae:11662.9\n",
      "[2]\tTest-mae:11082.7\n",
      "[3]\tTest-mae:10528.4\n",
      "[4]\tTest-mae:10006.8\n",
      "[5]\tTest-mae:9510.95\n",
      "[6]\tTest-mae:9037.6\n",
      "[7]\tTest-mae:8584.04\n",
      "[8]\tTest-mae:8157.82\n",
      "[9]\tTest-mae:7755.13\n",
      "[10]\tTest-mae:7369.45\n",
      "[11]\tTest-mae:7006.34\n",
      "[12]\tTest-mae:6662.15\n",
      "[13]\tTest-mae:6334.93\n",
      "[14]\tTest-mae:6027.85\n",
      "[15]\tTest-mae:5734.2\n",
      "[16]\tTest-mae:5456.18\n",
      "[17]\tTest-mae:5198.7\n",
      "[18]\tTest-mae:4954.09\n",
      "[19]\tTest-mae:4725.31\n",
      "[20]\tTest-mae:4512.67\n",
      "[21]\tTest-mae:4312.72\n",
      "[22]\tTest-mae:4127.51\n",
      "[23]\tTest-mae:3953.68\n",
      "[24]\tTest-mae:3791.05\n",
      "[25]\tTest-mae:3640.62\n",
      "[26]\tTest-mae:3503.2\n",
      "[27]\tTest-mae:3376.72\n",
      "[28]\tTest-mae:3260.44\n",
      "[29]\tTest-mae:3152.2\n",
      "[30]\tTest-mae:3054.31\n",
      "[31]\tTest-mae:2965.88\n",
      "[32]\tTest-mae:2882.47\n",
      "[33]\tTest-mae:2808.93\n",
      "[34]\tTest-mae:2744.06\n",
      "[35]\tTest-mae:2685.94\n",
      "[36]\tTest-mae:2631.65\n",
      "[37]\tTest-mae:2583.05\n",
      "[38]\tTest-mae:2537.25\n",
      "[39]\tTest-mae:2498.13\n",
      "[40]\tTest-mae:2462.64\n",
      "[41]\tTest-mae:2431.83\n",
      "[42]\tTest-mae:2402.36\n",
      "[43]\tTest-mae:2377.78\n",
      "[44]\tTest-mae:2353.49\n",
      "[45]\tTest-mae:2333.86\n",
      "[46]\tTest-mae:2314.3\n",
      "[47]\tTest-mae:2296.92\n",
      "[48]\tTest-mae:2281.08\n",
      "[49]\tTest-mae:2266.34\n",
      "[50]\tTest-mae:2255.5\n",
      "[51]\tTest-mae:2243.44\n",
      "[52]\tTest-mae:2233.67\n",
      "[53]\tTest-mae:2226.91\n",
      "[54]\tTest-mae:2218.45\n",
      "[55]\tTest-mae:2209.74\n",
      "[56]\tTest-mae:2205.12\n",
      "[57]\tTest-mae:2199.83\n",
      "[58]\tTest-mae:2195.23\n",
      "[59]\tTest-mae:2188.16\n",
      "[60]\tTest-mae:2183.54\n",
      "[61]\tTest-mae:2178.68\n",
      "[62]\tTest-mae:2175.12\n",
      "[63]\tTest-mae:2171.53\n",
      "[64]\tTest-mae:2168.45\n",
      "[65]\tTest-mae:2166.2\n",
      "[66]\tTest-mae:2165.66\n",
      "[67]\tTest-mae:2164.5\n",
      "[68]\tTest-mae:2162.73\n",
      "[69]\tTest-mae:2159.41\n",
      "[70]\tTest-mae:2158.92\n",
      "[71]\tTest-mae:2156.98\n",
      "[72]\tTest-mae:2155.75\n",
      "[73]\tTest-mae:2153.87\n",
      "[74]\tTest-mae:2152.07\n",
      "[75]\tTest-mae:2152.37\n",
      "[76]\tTest-mae:2151.42\n",
      "[77]\tTest-mae:2149.75\n",
      "[78]\tTest-mae:2150.19\n",
      "[79]\tTest-mae:2148.33\n",
      "[80]\tTest-mae:2146.57\n",
      "[81]\tTest-mae:2145.65\n",
      "[82]\tTest-mae:2144.95\n",
      "[83]\tTest-mae:2144.47\n",
      "[84]\tTest-mae:2144.83\n",
      "[85]\tTest-mae:2144.42\n",
      "[86]\tTest-mae:2145.79\n",
      "[87]\tTest-mae:2144.67\n",
      "[88]\tTest-mae:2143.34\n",
      "[89]\tTest-mae:2142.87\n",
      "[90]\tTest-mae:2143.72\n",
      "[91]\tTest-mae:2142.75\n",
      "[92]\tTest-mae:2143.22\n",
      "[93]\tTest-mae:2142.08\n",
      "[94]\tTest-mae:2143.38\n",
      "[95]\tTest-mae:2143.73\n",
      "[96]\tTest-mae:2143.82\n",
      "[97]\tTest-mae:2143.16\n",
      "[98]\tTest-mae:2142.53\n",
      "[99]\tTest-mae:2142.63\n",
      "[100]\tTest-mae:2142.03\n",
      "[101]\tTest-mae:2141.91\n",
      "[102]\tTest-mae:2141.62\n"
     ]
    }
   ],
   "source": [
    "best_model = xgb.train(\n",
    "    params,\n",
    "    dtrain,\n",
    "    num_boost_round=num_boost_round,\n",
    "    evals=[(dtest, \"Test\")]\n",
    ")\n"
   ]
  },
  {
   "cell_type": "code",
   "execution_count": 55,
   "metadata": {},
   "outputs": [
    {
     "data": {
      "text/plain": [
       "2141.622148618345"
      ]
     },
     "execution_count": 55,
     "metadata": {},
     "output_type": "execute_result"
    }
   ],
   "source": [
    "mean_absolute_error(best_model.predict(dtest), y_test)"
   ]
  },
  {
   "cell_type": "code",
   "execution_count": 56,
   "metadata": {},
   "outputs": [],
   "source": [
    "best_model.save_model(\"XGB.model\")"
   ]
  },
  {
   "cell_type": "markdown",
   "metadata": {},
   "source": [
    "\n",
    "* to use model later:\n",
    "\n",
    "loaded_model = xgb.Booster()\n",
    "\n",
    "loaded_model.load_model(\"my_model.model\")\n",
    "\n",
    "\n",
    "\n",
    "\n",
    "\n",
    "* And use it for predictions.\n",
    "\n",
    "loaded_model.predict(dtest)\n"
   ]
  },
  {
   "cell_type": "code",
   "execution_count": 57,
   "metadata": {},
   "outputs": [
    {
     "data": {
      "text/plain": [
       "(13500, 13)"
      ]
     },
     "execution_count": 57,
     "metadata": {},
     "output_type": "execute_result"
    }
   ],
   "source": [
    "data.shape"
   ]
  },
  {
   "cell_type": "code",
   "execution_count": 58,
   "metadata": {},
   "outputs": [
    {
     "data": {
      "text/plain": [
       "Index(['furnishingDesc', 'isMaintenance', 'lift', 'maintenanceAmount',\n",
       "       'parking', 'property_size', 'rent_amount', 'type_bhk', 'waterSupply',\n",
       "       'Balcony', 'Bathroom', 'floor/totalFloor', 'locality'],\n",
       "      dtype='object')"
      ]
     },
     "execution_count": 58,
     "metadata": {},
     "output_type": "execute_result"
    }
   ],
   "source": [
    "data.columns"
   ]
  },
  {
   "cell_type": "code",
   "execution_count": 59,
   "metadata": {},
   "outputs": [],
   "source": [
    "import scipy\n"
   ]
  },
  {
   "cell_type": "code",
   "execution_count": 60,
   "metadata": {},
   "outputs": [
    {
     "name": "stdout",
     "output_type": "stream",
     "text": [
      "[19486.383]\n"
     ]
    }
   ],
   "source": [
    "data_list = list((np.array([1,False,False,17,4,12,3,2,2,2,16,27])).reshape(-1))\n",
    "\n",
    "# load bst model\n",
    "bst_model = xgb.Booster({'bthread': 2})\n",
    "bst_model.load_model('XGB.model')\n",
    "df = pd.DataFrame()\n",
    "col_names = ['f%d' % i for i in range(12)]\n",
    "df = df.append(pd.Series(data=data_list, index=col_names), ignore_index=True)\n",
    "\n",
    "result1 = bst_model.predict(xgb.DMatrix(df))\n",
    "#lambda_ = 0.02336110709655923\n",
    "#res = scipy.special.inv_boxcox(result1[0], lambda_)\n",
    "#print( np.around(res, decimals=2))\n",
    "print(result1)"
   ]
  },
  {
   "cell_type": "code",
   "execution_count": null,
   "metadata": {},
   "outputs": [],
   "source": []
  }
 ],
 "metadata": {
  "kernelspec": {
   "display_name": "Python 3",
   "language": "python",
   "name": "python3"
  },
  "language_info": {
   "codemirror_mode": {
    "name": "ipython",
    "version": 3
   },
   "file_extension": ".py",
   "mimetype": "text/x-python",
   "name": "python",
   "nbconvert_exporter": "python",
   "pygments_lexer": "ipython3",
   "version": "3.8.5"
  }
 },
 "nbformat": 4,
 "nbformat_minor": 4
}
